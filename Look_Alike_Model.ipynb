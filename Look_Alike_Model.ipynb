{
 "cells": [
  {
   "cell_type": "code",
   "execution_count": 1,
   "metadata": {},
   "outputs": [
    {
     "name": "stderr",
     "output_type": "stream",
     "text": [
      "C:\\ProgramData\\Anaconda3\\lib\\site-packages\\sklearn\\ensemble\\weight_boosting.py:29: DeprecationWarning: numpy.core.umath_tests is an internal NumPy module and should not be imported. It will be removed in a future NumPy release.\n",
      "  from numpy.core.umath_tests import inner1d\n"
     ]
    }
   ],
   "source": [
    "import pandas as pd\n",
    "import numpy as np\n",
    "from sklearn.model_selection import train_test_split\n",
    "from sklearn.ensemble import RandomForestClassifier\n",
    "from sklearn.metrics import mean_squared_error, accuracy_score\n"
   ]
  },
  {
   "cell_type": "code",
   "execution_count": 2,
   "metadata": {},
   "outputs": [
    {
     "data": {
      "text/html": [
       "<div>\n",
       "<style scoped>\n",
       "    .dataframe tbody tr th:only-of-type {\n",
       "        vertical-align: middle;\n",
       "    }\n",
       "\n",
       "    .dataframe tbody tr th {\n",
       "        vertical-align: top;\n",
       "    }\n",
       "\n",
       "    .dataframe thead th {\n",
       "        text-align: right;\n",
       "    }\n",
       "</style>\n",
       "<table border=\"1\" class=\"dataframe\">\n",
       "  <thead>\n",
       "    <tr style=\"text-align: right;\">\n",
       "      <th></th>\n",
       "      <th>Date List Produced</th>\n",
       "      <th>Record Expiration Date</th>\n",
       "      <th>Company Name</th>\n",
       "      <th>AMR_Fuzzy</th>\n",
       "      <th>Verified Record</th>\n",
       "      <th>Executive First Name</th>\n",
       "      <th>Executive Last Name</th>\n",
       "      <th>Executive Title</th>\n",
       "      <th>Role</th>\n",
       "      <th>Department</th>\n",
       "      <th>...</th>\n",
       "      <th>Franchise6_1</th>\n",
       "      <th>Affiliated Records</th>\n",
       "      <th>Affiliated Locations</th>\n",
       "      <th>NAICS</th>\n",
       "      <th>Government Contractor</th>\n",
       "      <th>ECommerce</th>\n",
       "      <th>amr</th>\n",
       "      <th>revenue_bucket</th>\n",
       "      <th>CLASS</th>\n",
       "      <th>cust_id</th>\n",
       "    </tr>\n",
       "  </thead>\n",
       "  <tbody>\n",
       "    <tr>\n",
       "      <th>0</th>\n",
       "      <td>00:00.0</td>\n",
       "      <td>00:00.0</td>\n",
       "      <td>Bridgewater State Hospital</td>\n",
       "      <td>C</td>\n",
       "      <td>Yes</td>\n",
       "      <td>Kenneth W</td>\n",
       "      <td>Nelson</td>\n",
       "      <td>Administrator</td>\n",
       "      <td>Manager</td>\n",
       "      <td>General/Operations</td>\n",
       "      <td>...</td>\n",
       "      <td>NaN</td>\n",
       "      <td>0</td>\n",
       "      <td>0</td>\n",
       "      <td>62211002</td>\n",
       "      <td>NaN</td>\n",
       "      <td>NaN</td>\n",
       "      <td>683.0</td>\n",
       "      <td>A</td>\n",
       "      <td>&gt;$500</td>\n",
       "      <td>6124981.0</td>\n",
       "    </tr>\n",
       "    <tr>\n",
       "      <th>1</th>\n",
       "      <td>00:00.0</td>\n",
       "      <td>00:00.0</td>\n",
       "      <td>Woodbridge Fire Dept</td>\n",
       "      <td>C</td>\n",
       "      <td>Yes</td>\n",
       "      <td>Sean C</td>\n",
       "      <td>Rowland</td>\n",
       "      <td>President</td>\n",
       "      <td>Chief Executive Officer/President/Executive Di...</td>\n",
       "      <td>General/Operations</td>\n",
       "      <td>...</td>\n",
       "      <td>NaN</td>\n",
       "      <td>0</td>\n",
       "      <td>0</td>\n",
       "      <td>92216003</td>\n",
       "      <td>NaN</td>\n",
       "      <td>NaN</td>\n",
       "      <td>583.0</td>\n",
       "      <td>A</td>\n",
       "      <td>&gt;$500</td>\n",
       "      <td>1443278.0</td>\n",
       "    </tr>\n",
       "    <tr>\n",
       "      <th>2</th>\n",
       "      <td>00:00.0</td>\n",
       "      <td>00:00.0</td>\n",
       "      <td>Otto Herrmann Inc</td>\n",
       "      <td>C</td>\n",
       "      <td>Yes</td>\n",
       "      <td>Richard</td>\n",
       "      <td>Stier</td>\n",
       "      <td>President</td>\n",
       "      <td>Chief Executive Officer/President/Executive Di...</td>\n",
       "      <td>General/Operations</td>\n",
       "      <td>...</td>\n",
       "      <td>NaN</td>\n",
       "      <td>0</td>\n",
       "      <td>0</td>\n",
       "      <td>44413005</td>\n",
       "      <td>Y</td>\n",
       "      <td>Y</td>\n",
       "      <td>935.0</td>\n",
       "      <td>A</td>\n",
       "      <td>&gt;$500</td>\n",
       "      <td>2893821.0</td>\n",
       "    </tr>\n",
       "    <tr>\n",
       "      <th>3</th>\n",
       "      <td>00:00.0</td>\n",
       "      <td>00:00.0</td>\n",
       "      <td>Achievement First Rhode Island</td>\n",
       "      <td>C</td>\n",
       "      <td>Yes</td>\n",
       "      <td>Libby</td>\n",
       "      <td>Miller</td>\n",
       "      <td>Principal</td>\n",
       "      <td>Manager</td>\n",
       "      <td>None</td>\n",
       "      <td>...</td>\n",
       "      <td>NaN</td>\n",
       "      <td>0</td>\n",
       "      <td>0</td>\n",
       "      <td>99999005</td>\n",
       "      <td>Y</td>\n",
       "      <td>NaN</td>\n",
       "      <td>546.0</td>\n",
       "      <td>A</td>\n",
       "      <td>&gt;$500</td>\n",
       "      <td>7774182.0</td>\n",
       "    </tr>\n",
       "    <tr>\n",
       "      <th>4</th>\n",
       "      <td>00:00.0</td>\n",
       "      <td>00:00.0</td>\n",
       "      <td>Beer King Inc</td>\n",
       "      <td>C</td>\n",
       "      <td>Yes</td>\n",
       "      <td>Johnny</td>\n",
       "      <td>Ling</td>\n",
       "      <td>President</td>\n",
       "      <td>Chief Executive Officer/President/Executive Di...</td>\n",
       "      <td>General/Operations</td>\n",
       "      <td>...</td>\n",
       "      <td>NaN</td>\n",
       "      <td>0</td>\n",
       "      <td>0</td>\n",
       "      <td>44531001</td>\n",
       "      <td>NaN</td>\n",
       "      <td>NaN</td>\n",
       "      <td>1121.0</td>\n",
       "      <td>A</td>\n",
       "      <td>&gt;$500</td>\n",
       "      <td>5527152.0</td>\n",
       "    </tr>\n",
       "  </tbody>\n",
       "</table>\n",
       "<p>5 rows × 185 columns</p>\n",
       "</div>"
      ],
      "text/plain": [
       "  Date List Produced Record Expiration Date                    Company Name  \\\n",
       "0            00:00.0                00:00.0      Bridgewater State Hospital   \n",
       "1            00:00.0                00:00.0            Woodbridge Fire Dept   \n",
       "2            00:00.0                00:00.0               Otto Herrmann Inc   \n",
       "3            00:00.0                00:00.0  Achievement First Rhode Island   \n",
       "4            00:00.0                00:00.0                   Beer King Inc   \n",
       "\n",
       "  AMR_Fuzzy Verified Record Executive First Name Executive Last Name  \\\n",
       "0         C             Yes            Kenneth W              Nelson   \n",
       "1         C             Yes               Sean C             Rowland   \n",
       "2         C             Yes              Richard               Stier   \n",
       "3         C             Yes                Libby              Miller   \n",
       "4         C             Yes               Johnny                Ling   \n",
       "\n",
       "  Executive Title                                               Role  \\\n",
       "0   Administrator                                            Manager   \n",
       "1       President  Chief Executive Officer/President/Executive Di...   \n",
       "2       President  Chief Executive Officer/President/Executive Di...   \n",
       "3       Principal                                            Manager   \n",
       "4       President  Chief Executive Officer/President/Executive Di...   \n",
       "\n",
       "           Department  ... Franchise6_1 Affiliated Records  \\\n",
       "0  General/Operations  ...          NaN                  0   \n",
       "1  General/Operations  ...          NaN                  0   \n",
       "2  General/Operations  ...          NaN                  0   \n",
       "3                None  ...          NaN                  0   \n",
       "4  General/Operations  ...          NaN                  0   \n",
       "\n",
       "  Affiliated Locations     NAICS Government Contractor ECommerce     amr  \\\n",
       "0                    0  62211002                   NaN       NaN   683.0   \n",
       "1                    0  92216003                   NaN       NaN   583.0   \n",
       "2                    0  44413005                     Y         Y   935.0   \n",
       "3                    0  99999005                     Y       NaN   546.0   \n",
       "4                    0  44531001                   NaN       NaN  1121.0   \n",
       "\n",
       "   revenue_bucket  CLASS    cust_id  \n",
       "0               A  >$500  6124981.0  \n",
       "1               A  >$500  1443278.0  \n",
       "2               A  >$500  2893821.0  \n",
       "3               A  >$500  7774182.0  \n",
       "4               A  >$500  5527152.0  \n",
       "\n",
       "[5 rows x 185 columns]"
      ]
     },
     "execution_count": 2,
     "metadata": {},
     "output_type": "execute_result"
    }
   ],
   "source": [
    "df=pd.read_csv('looks like A.csv')\n",
    "df.head()"
   ]
  },
  {
   "cell_type": "code",
   "execution_count": 3,
   "metadata": {},
   "outputs": [],
   "source": [
    "data=df.copy()"
   ]
  },
  {
   "cell_type": "code",
   "execution_count": 4,
   "metadata": {},
   "outputs": [
    {
     "data": {
      "text/plain": [
       "Index(['Professional Title', 'Neighborhood', 'Corporate Employee Size Actual',\n",
       "       'Corporate Employee Size Range', 'Corporate Sales Volume Range',\n",
       "       'Primary SIC Ad Size', 'Ad Size 1', 'NAICS 1', 'NAICS 1 Description',\n",
       "       'Primary Franchise/Specialty',\n",
       "       ...\n",
       "       'Franchise3_0', 'Franchise3_1', 'Franchise4_0', 'Franchise4_1',\n",
       "       'Franchise5_0', 'Franchise5_1', 'Franchise6_0', 'Franchise6_1',\n",
       "       'Government Contractor', 'ECommerce'],\n",
       "      dtype='object', length=109)"
      ]
     },
     "execution_count": 4,
     "metadata": {},
     "output_type": "execute_result"
    }
   ],
   "source": [
    "x=(data.isnull().sum()/len(df.index))*100\n",
    "a=x[x>40.0]\n",
    "b=a.index\n",
    "b"
   ]
  },
  {
   "cell_type": "code",
   "execution_count": 5,
   "metadata": {},
   "outputs": [],
   "source": [
    "data1=data.drop(b,axis=1)"
   ]
  },
  {
   "cell_type": "markdown",
   "metadata": {},
   "source": [
    "#### Dropping all those columns that have missing data more than 40%"
   ]
  },
  {
   "cell_type": "markdown",
   "metadata": {},
   "source": [
    "## EDA"
   ]
  },
  {
   "cell_type": "code",
   "execution_count": 6,
   "metadata": {},
   "outputs": [
    {
     "data": {
      "text/plain": [
       "Date List Produced        0.000000\n",
       "Record Expiration Date    0.000000\n",
       "Company Name              0.000000\n",
       "AMR_Fuzzy                 0.000000\n",
       "Verified Record           0.000000\n",
       "                            ...   \n",
       "NAICS                     0.000000\n",
       "amr                       0.554318\n",
       "revenue_bucket            0.554318\n",
       "CLASS                     0.554318\n",
       "cust_id                   0.554318\n",
       "Length: 76, dtype: float64"
      ]
     },
     "execution_count": 6,
     "metadata": {},
     "output_type": "execute_result"
    }
   ],
   "source": [
    "(data1.isnull().sum()/len(data1.index))*100"
   ]
  },
  {
   "cell_type": "code",
   "execution_count": 7,
   "metadata": {},
   "outputs": [],
   "source": [
    "data_new=data1[data1['revenue_bucket'].notnull()]"
   ]
  },
  {
   "cell_type": "markdown",
   "metadata": {},
   "source": [
    "#### Considering all those rows in which 'revenue_bucket' is not null as 'revenue_bucket' is our target variable"
   ]
  },
  {
   "cell_type": "code",
   "execution_count": 8,
   "metadata": {},
   "outputs": [],
   "source": [
    "#data_new.columns"
   ]
  },
  {
   "cell_type": "code",
   "execution_count": 9,
   "metadata": {},
   "outputs": [
    {
     "data": {
      "text/html": [
       "<div>\n",
       "<style scoped>\n",
       "    .dataframe tbody tr th:only-of-type {\n",
       "        vertical-align: middle;\n",
       "    }\n",
       "\n",
       "    .dataframe tbody tr th {\n",
       "        vertical-align: top;\n",
       "    }\n",
       "\n",
       "    .dataframe thead th {\n",
       "        text-align: right;\n",
       "    }\n",
       "</style>\n",
       "<table border=\"1\" class=\"dataframe\">\n",
       "  <thead>\n",
       "    <tr style=\"text-align: right;\">\n",
       "      <th></th>\n",
       "      <th>Mailing Address</th>\n",
       "      <th>Mailing City</th>\n",
       "      <th>Mailing State</th>\n",
       "      <th>Mailing Zip Code</th>\n",
       "      <th>Mailing Zip 4</th>\n",
       "      <th>Mailing Carrier Route</th>\n",
       "      <th>Mailing Delivery Point Barcode</th>\n",
       "      <th>Location Address</th>\n",
       "      <th>Location City</th>\n",
       "      <th>Location State</th>\n",
       "      <th>Location ZIP Code</th>\n",
       "      <th>Location ZIP+4</th>\n",
       "      <th>Location Address Delivery Point Barcode</th>\n",
       "    </tr>\n",
       "  </thead>\n",
       "  <tbody>\n",
       "    <tr>\n",
       "      <th>0</th>\n",
       "      <td>20 Administration Rd</td>\n",
       "      <td>Bridgewater</td>\n",
       "      <td>MA</td>\n",
       "      <td>2324</td>\n",
       "      <td>3201.0</td>\n",
       "      <td>R099</td>\n",
       "      <td>201.0</td>\n",
       "      <td>20 Administration Rd</td>\n",
       "      <td>Bridgewater</td>\n",
       "      <td>MA</td>\n",
       "      <td>2324</td>\n",
       "      <td>3201.0</td>\n",
       "      <td>201.0</td>\n",
       "    </tr>\n",
       "    <tr>\n",
       "      <th>1</th>\n",
       "      <td>PO Box F</td>\n",
       "      <td>Woodbridge</td>\n",
       "      <td>CT</td>\n",
       "      <td>6525</td>\n",
       "      <td>NaN</td>\n",
       "      <td>R011</td>\n",
       "      <td>NaN</td>\n",
       "      <td>100 Center Rd</td>\n",
       "      <td>Woodbridge</td>\n",
       "      <td>CT</td>\n",
       "      <td>6525</td>\n",
       "      <td>NaN</td>\n",
       "      <td>NaN</td>\n",
       "    </tr>\n",
       "    <tr>\n",
       "      <th>2</th>\n",
       "      <td>6729 Myrtle Ave # 1</td>\n",
       "      <td>Glendale</td>\n",
       "      <td>NY</td>\n",
       "      <td>11385</td>\n",
       "      <td>7085.0</td>\n",
       "      <td>C037</td>\n",
       "      <td>291.0</td>\n",
       "      <td>6729 Myrtle Ave # 1</td>\n",
       "      <td>Glendale</td>\n",
       "      <td>NY</td>\n",
       "      <td>11385</td>\n",
       "      <td>7085.0</td>\n",
       "      <td>291.0</td>\n",
       "    </tr>\n",
       "    <tr>\n",
       "      <th>3</th>\n",
       "      <td>370 Hartford Ave</td>\n",
       "      <td>Providence</td>\n",
       "      <td>RI</td>\n",
       "      <td>2909</td>\n",
       "      <td>5104.0</td>\n",
       "      <td>C029</td>\n",
       "      <td>703.0</td>\n",
       "      <td>370 Hartford Ave</td>\n",
       "      <td>Providence</td>\n",
       "      <td>RI</td>\n",
       "      <td>2909</td>\n",
       "      <td>5104.0</td>\n",
       "      <td>703.0</td>\n",
       "    </tr>\n",
       "    <tr>\n",
       "      <th>4</th>\n",
       "      <td>2102 Utica Ave # 7</td>\n",
       "      <td>Brooklyn</td>\n",
       "      <td>NY</td>\n",
       "      <td>11234</td>\n",
       "      <td>3834.0</td>\n",
       "      <td>C075</td>\n",
       "      <td>74.0</td>\n",
       "      <td>2102 Utica Ave # 7</td>\n",
       "      <td>Brooklyn</td>\n",
       "      <td>NY</td>\n",
       "      <td>11234</td>\n",
       "      <td>3834.0</td>\n",
       "      <td>74.0</td>\n",
       "    </tr>\n",
       "  </tbody>\n",
       "</table>\n",
       "</div>"
      ],
      "text/plain": [
       "        Mailing Address Mailing City Mailing State  Mailing Zip Code  \\\n",
       "0  20 Administration Rd  Bridgewater            MA              2324   \n",
       "1              PO Box F   Woodbridge            CT              6525   \n",
       "2   6729 Myrtle Ave # 1     Glendale            NY             11385   \n",
       "3      370 Hartford Ave   Providence            RI              2909   \n",
       "4    2102 Utica Ave # 7     Brooklyn            NY             11234   \n",
       "\n",
       "   Mailing Zip 4 Mailing Carrier Route  Mailing Delivery Point Barcode  \\\n",
       "0         3201.0                  R099                           201.0   \n",
       "1            NaN                  R011                             NaN   \n",
       "2         7085.0                  C037                           291.0   \n",
       "3         5104.0                  C029                           703.0   \n",
       "4         3834.0                  C075                            74.0   \n",
       "\n",
       "       Location Address Location City Location State  Location ZIP Code  \\\n",
       "0  20 Administration Rd   Bridgewater             MA               2324   \n",
       "1         100 Center Rd    Woodbridge             CT               6525   \n",
       "2   6729 Myrtle Ave # 1      Glendale             NY              11385   \n",
       "3      370 Hartford Ave    Providence             RI               2909   \n",
       "4    2102 Utica Ave # 7      Brooklyn             NY              11234   \n",
       "\n",
       "   Location ZIP+4  Location Address Delivery Point Barcode  \n",
       "0          3201.0                                    201.0  \n",
       "1             NaN                                      NaN  \n",
       "2          7085.0                                    291.0  \n",
       "3          5104.0                                    703.0  \n",
       "4          3834.0                                     74.0  "
      ]
     },
     "execution_count": 9,
     "metadata": {},
     "output_type": "execute_result"
    }
   ],
   "source": [
    "data_new[['Mailing Address',\n",
    "       'Mailing City', 'Mailing State', 'Mailing Zip Code', 'Mailing Zip 4',\n",
    "       'Mailing Carrier Route', 'Mailing Delivery Point Barcode',\n",
    "       'Location Address', 'Location City', 'Location State',\n",
    "       'Location ZIP Code', 'Location ZIP+4',\n",
    "       'Location Address Delivery Point Barcode']].head()"
   ]
  },
  {
   "cell_type": "code",
   "execution_count": 10,
   "metadata": {},
   "outputs": [
    {
     "data": {
      "text/plain": [
       "(162897, 76)"
      ]
     },
     "execution_count": 10,
     "metadata": {},
     "output_type": "execute_result"
    }
   ],
   "source": [
    "data_new.shape"
   ]
  },
  {
   "cell_type": "code",
   "execution_count": 11,
   "metadata": {},
   "outputs": [
    {
     "data": {
      "text/plain": [
       "Date List Produced        1977\n",
       "Record Expiration Date    1977\n",
       "Company Name              1977\n",
       "AMR_Fuzzy                 1977\n",
       "Verified Record           1977\n",
       "                          ... \n",
       "NAICS                     1977\n",
       "amr                       1977\n",
       "revenue_bucket            1977\n",
       "CLASS                     1977\n",
       "cust_id                   1977\n",
       "Length: 76, dtype: int64"
      ]
     },
     "execution_count": 11,
     "metadata": {},
     "output_type": "execute_result"
    }
   ],
   "source": [
    "data_new[data_new['Mailing City']!=data_new['Location City']].count()"
   ]
  },
  {
   "cell_type": "markdown",
   "metadata": {},
   "source": [
    "#### In almost 99% of the data points, mailing address is same as Location address so we'll keep only one column"
   ]
  },
  {
   "cell_type": "code",
   "execution_count": 12,
   "metadata": {},
   "outputs": [],
   "source": [
    "data_new=data_new.drop(['Mailing Address',\n",
    "       'Mailing City', 'Mailing State', 'Mailing Zip Code', 'Mailing Zip 4',\n",
    "       'Mailing Carrier Route', 'Mailing Delivery Point Barcode',\n",
    "       'Location Address',\n",
    "       'Location ZIP Code', 'Location ZIP+4',\n",
    "       'Location Address Delivery Point Barcode',\n",
    "       'Location Address Carrier Route'],axis=1)"
   ]
  },
  {
   "cell_type": "code",
   "execution_count": 13,
   "metadata": {},
   "outputs": [
    {
     "data": {
      "text/plain": [
       "array(['00:00.0'], dtype=object)"
      ]
     },
     "execution_count": 13,
     "metadata": {},
     "output_type": "execute_result"
    }
   ],
   "source": [
    "data_new['Date List Produced'].unique()"
   ]
  },
  {
   "cell_type": "code",
   "execution_count": 14,
   "metadata": {},
   "outputs": [
    {
     "data": {
      "text/plain": [
       "array(['00:00.0'], dtype=object)"
      ]
     },
     "execution_count": 14,
     "metadata": {},
     "output_type": "execute_result"
    }
   ],
   "source": [
    "data_new['Record Expiration Date'].unique()"
   ]
  },
  {
   "cell_type": "code",
   "execution_count": 15,
   "metadata": {},
   "outputs": [],
   "source": [
    "data_new=data_new.drop(['Date List Produced', 'Record Expiration Date'],axis=1)"
   ]
  },
  {
   "cell_type": "markdown",
   "metadata": {},
   "source": [
    "#### Dropping 'Date List Produced' and 'Record Expiration Date' columns as they are not giving us any relevent information"
   ]
  },
  {
   "cell_type": "code",
   "execution_count": 16,
   "metadata": {},
   "outputs": [],
   "source": [
    "#data_new.columns"
   ]
  },
  {
   "cell_type": "code",
   "execution_count": 17,
   "metadata": {},
   "outputs": [
    {
     "data": {
      "text/plain": [
       "array(['Yes'], dtype=object)"
      ]
     },
     "execution_count": 17,
     "metadata": {},
     "output_type": "execute_result"
    }
   ],
   "source": [
    "data_new['Verified Record'].unique()"
   ]
  },
  {
   "cell_type": "code",
   "execution_count": 18,
   "metadata": {},
   "outputs": [],
   "source": [
    "data_new=data_new.drop('Verified Record',axis=1)"
   ]
  },
  {
   "cell_type": "markdown",
   "metadata": {},
   "source": [
    "#### will not consider 'Verified Record' column as value for each data point is same(it is not giving us any additional information)"
   ]
  },
  {
   "cell_type": "code",
   "execution_count": 19,
   "metadata": {},
   "outputs": [
    {
     "data": {
      "text/html": [
       "<div>\n",
       "<style scoped>\n",
       "    .dataframe tbody tr th:only-of-type {\n",
       "        vertical-align: middle;\n",
       "    }\n",
       "\n",
       "    .dataframe tbody tr th {\n",
       "        vertical-align: top;\n",
       "    }\n",
       "\n",
       "    .dataframe thead th {\n",
       "        text-align: right;\n",
       "    }\n",
       "</style>\n",
       "<table border=\"1\" class=\"dataframe\">\n",
       "  <thead>\n",
       "    <tr style=\"text-align: right;\">\n",
       "      <th></th>\n",
       "      <th>Location Employee Size Actual</th>\n",
       "      <th>Location Employee Size Range</th>\n",
       "      <th>Location Sales Volume Actual</th>\n",
       "      <th>Location Sales Volume Range</th>\n",
       "      <th>Corporate Sales Volume Actual</th>\n",
       "    </tr>\n",
       "  </thead>\n",
       "  <tbody>\n",
       "    <tr>\n",
       "      <th>0</th>\n",
       "      <td>500.0</td>\n",
       "      <td>500 to 999</td>\n",
       "      <td>74549000</td>\n",
       "      <td>$50-100 Million</td>\n",
       "      <td>0.0</td>\n",
       "    </tr>\n",
       "    <tr>\n",
       "      <th>1</th>\n",
       "      <td>50.0</td>\n",
       "      <td>50 to 99</td>\n",
       "      <td>0</td>\n",
       "      <td>NaN</td>\n",
       "      <td>0.0</td>\n",
       "    </tr>\n",
       "    <tr>\n",
       "      <th>2</th>\n",
       "      <td>2.0</td>\n",
       "      <td>1 to 4</td>\n",
       "      <td>439000</td>\n",
       "      <td>Less Than $500,000</td>\n",
       "      <td>0.0</td>\n",
       "    </tr>\n",
       "    <tr>\n",
       "      <th>3</th>\n",
       "      <td>4.0</td>\n",
       "      <td>1 to 4</td>\n",
       "      <td>0</td>\n",
       "      <td>NaN</td>\n",
       "      <td>0.0</td>\n",
       "    </tr>\n",
       "    <tr>\n",
       "      <th>4</th>\n",
       "      <td>3.0</td>\n",
       "      <td>1 to 4</td>\n",
       "      <td>1035000</td>\n",
       "      <td>$1-2.5 Million</td>\n",
       "      <td>0.0</td>\n",
       "    </tr>\n",
       "  </tbody>\n",
       "</table>\n",
       "</div>"
      ],
      "text/plain": [
       "   Location Employee Size Actual Location Employee Size Range  \\\n",
       "0                          500.0                   500 to 999   \n",
       "1                           50.0                     50 to 99   \n",
       "2                            2.0                       1 to 4   \n",
       "3                            4.0                       1 to 4   \n",
       "4                            3.0                       1 to 4   \n",
       "\n",
       "   Location Sales Volume Actual Location Sales Volume Range  \\\n",
       "0                      74549000             $50-100 Million   \n",
       "1                             0                         NaN   \n",
       "2                        439000          Less Than $500,000   \n",
       "3                             0                         NaN   \n",
       "4                       1035000              $1-2.5 Million   \n",
       "\n",
       "   Corporate Sales Volume Actual  \n",
       "0                            0.0  \n",
       "1                            0.0  \n",
       "2                            0.0  \n",
       "3                            0.0  \n",
       "4                            0.0  "
      ]
     },
     "execution_count": 19,
     "metadata": {},
     "output_type": "execute_result"
    }
   ],
   "source": [
    "data_new[['Location Employee Size Actual',\n",
    "       'Location Employee Size Range', 'Location Sales Volume Actual',\n",
    "       'Location Sales Volume Range', 'Corporate Sales Volume Actual']].head()"
   ]
  },
  {
   "cell_type": "code",
   "execution_count": 20,
   "metadata": {},
   "outputs": [],
   "source": [
    "data_new=data_new.drop(['Location Employee Size Range','Location Sales Volume Range'],axis=1)"
   ]
  },
  {
   "cell_type": "markdown",
   "metadata": {},
   "source": [
    "#### Will consider only actual values and not the range values"
   ]
  },
  {
   "cell_type": "code",
   "execution_count": 21,
   "metadata": {},
   "outputs": [
    {
     "data": {
      "text/plain": [
       "Index(['Company Name', 'AMR_Fuzzy', 'Executive First Name',\n",
       "       'Executive Last Name', 'Executive Title', 'Role', 'Department',\n",
       "       'Functional Area', 'Executive Gender', 'Location City',\n",
       "       'Location State', 'County Description', 'Metro Area', 'Latitude',\n",
       "       'Longitude', 'Location Employee Size Actual',\n",
       "       'Location Sales Volume Actual', 'Corporate Sales Volume Actual',\n",
       "       'Primary SIC Code', 'Primary SIC Code Description',\n",
       "       'Primary SIC Year Appeared', 'SIC Code 1', 'SIC Code Description 1',\n",
       "       'Year Appeared 1', 'Primary NAICS Description', 'Holding Status',\n",
       "       'Home Business', 'Fortune 1000 Ranking', 'Year Established',\n",
       "       'Square Footage', 'Infogroup ID', 'Parent Infogroup ID', 'First Name 0',\n",
       "       'Last Name 0', 'Executive Title 0', 'Executive Gender 0',\n",
       "       'Accounting Expenses', 'Advertising Expense', 'Computer Expenses',\n",
       "       'Contract Labor Expenses', 'Insurance Expenses', 'Legal Expenses',\n",
       "       'Management/Administration Expenses', 'Office Supplies Expenses',\n",
       "       'Package/Container Expenses', 'Payroll and Benefits Expenses',\n",
       "       'Purchase Print Expenses', 'Rent Expenses', 'Telcom Expenses',\n",
       "       'Transportation Expenses', 'Utilities Expense', 'Tags',\n",
       "       'Affiliated Records', 'Affiliated Locations', 'NAICS', 'amr',\n",
       "       'revenue_bucket', 'CLASS', 'cust_id'],\n",
       "      dtype='object')"
      ]
     },
     "execution_count": 21,
     "metadata": {},
     "output_type": "execute_result"
    }
   ],
   "source": [
    "data_new.columns"
   ]
  },
  {
   "cell_type": "code",
   "execution_count": 22,
   "metadata": {},
   "outputs": [
    {
     "data": {
      "text/html": [
       "<div>\n",
       "<style scoped>\n",
       "    .dataframe tbody tr th:only-of-type {\n",
       "        vertical-align: middle;\n",
       "    }\n",
       "\n",
       "    .dataframe tbody tr th {\n",
       "        vertical-align: top;\n",
       "    }\n",
       "\n",
       "    .dataframe thead th {\n",
       "        text-align: right;\n",
       "    }\n",
       "</style>\n",
       "<table border=\"1\" class=\"dataframe\">\n",
       "  <thead>\n",
       "    <tr style=\"text-align: right;\">\n",
       "      <th></th>\n",
       "      <th>Primary SIC Code</th>\n",
       "      <th>Primary SIC Code Description</th>\n",
       "      <th>Primary SIC Year Appeared</th>\n",
       "      <th>SIC Code 1</th>\n",
       "      <th>SIC Code Description 1</th>\n",
       "      <th>Year Appeared 1</th>\n",
       "      <th>Primary NAICS Description</th>\n",
       "      <th>Holding Status</th>\n",
       "    </tr>\n",
       "  </thead>\n",
       "  <tbody>\n",
       "    <tr>\n",
       "      <th>0</th>\n",
       "      <td>8062-02</td>\n",
       "      <td>Hospitals</td>\n",
       "      <td>2010</td>\n",
       "      <td>8062-02</td>\n",
       "      <td>Hospitals</td>\n",
       "      <td>2010</td>\n",
       "      <td>General Medical &amp; Surgical Hospitals</td>\n",
       "      <td>0</td>\n",
       "    </tr>\n",
       "    <tr>\n",
       "      <th>1</th>\n",
       "      <td>9224-04</td>\n",
       "      <td>Fire Departments</td>\n",
       "      <td>1995</td>\n",
       "      <td>9224-04</td>\n",
       "      <td>Fire Departments</td>\n",
       "      <td>1995</td>\n",
       "      <td>Fire Protection</td>\n",
       "      <td>0</td>\n",
       "    </tr>\n",
       "    <tr>\n",
       "      <th>2</th>\n",
       "      <td>5251-04</td>\n",
       "      <td>Hardware-Retail</td>\n",
       "      <td>1984</td>\n",
       "      <td>5251-04</td>\n",
       "      <td>Hardware-Retail</td>\n",
       "      <td>1984</td>\n",
       "      <td>Hardware Stores</td>\n",
       "      <td>0</td>\n",
       "    </tr>\n",
       "    <tr>\n",
       "      <th>3</th>\n",
       "      <td>9999-66</td>\n",
       "      <td>Federal Government Contractors</td>\n",
       "      <td>2015</td>\n",
       "      <td>9999-66</td>\n",
       "      <td>Federal Government Contractors</td>\n",
       "      <td>2015</td>\n",
       "      <td>Unclassified Establishments</td>\n",
       "      <td>0</td>\n",
       "    </tr>\n",
       "    <tr>\n",
       "      <th>4</th>\n",
       "      <td>5921-04</td>\n",
       "      <td>Beer &amp; Ale-Retail</td>\n",
       "      <td>2011</td>\n",
       "      <td>5921-04</td>\n",
       "      <td>Beer &amp; Ale-Retail</td>\n",
       "      <td>2011</td>\n",
       "      <td>Beer, Wine &amp; Liquor Stores</td>\n",
       "      <td>0</td>\n",
       "    </tr>\n",
       "  </tbody>\n",
       "</table>\n",
       "</div>"
      ],
      "text/plain": [
       "  Primary SIC Code    Primary SIC Code Description  Primary SIC Year Appeared  \\\n",
       "0          8062-02                       Hospitals                       2010   \n",
       "1          9224-04                Fire Departments                       1995   \n",
       "2          5251-04                 Hardware-Retail                       1984   \n",
       "3          9999-66  Federal Government Contractors                       2015   \n",
       "4          5921-04               Beer & Ale-Retail                       2011   \n",
       "\n",
       "  SIC Code 1          SIC Code Description 1  Year Appeared 1  \\\n",
       "0    8062-02                       Hospitals             2010   \n",
       "1    9224-04                Fire Departments             1995   \n",
       "2    5251-04                 Hardware-Retail             1984   \n",
       "3    9999-66  Federal Government Contractors             2015   \n",
       "4    5921-04               Beer & Ale-Retail             2011   \n",
       "\n",
       "              Primary NAICS Description  Holding Status  \n",
       "0  General Medical & Surgical Hospitals               0  \n",
       "1                       Fire Protection               0  \n",
       "2                       Hardware Stores               0  \n",
       "3           Unclassified Establishments               0  \n",
       "4            Beer, Wine & Liquor Stores               0  "
      ]
     },
     "execution_count": 22,
     "metadata": {},
     "output_type": "execute_result"
    }
   ],
   "source": [
    "data_new[['Primary SIC Code', 'Primary SIC Code Description',\n",
    "       'Primary SIC Year Appeared', 'SIC Code 1', 'SIC Code Description 1',\n",
    "       'Year Appeared 1', 'Primary NAICS Description', 'Holding Status']].head()"
   ]
  },
  {
   "cell_type": "code",
   "execution_count": 23,
   "metadata": {},
   "outputs": [],
   "source": [
    "data_new=data_new.drop(['SIC Code 1','SIC Code Description 1','Year Appeared 1',\\\n",
    "                        'Primary SIC Year Appeared'],axis=1)"
   ]
  },
  {
   "cell_type": "markdown",
   "metadata": {},
   "source": [
    "#### Keeping only primary code and description"
   ]
  },
  {
   "cell_type": "code",
   "execution_count": 24,
   "metadata": {},
   "outputs": [
    {
     "data": {
      "text/plain": [
       "0    153480\n",
       "2      9195\n",
       "1       222\n",
       "Name: Holding Status, dtype: int64"
      ]
     },
     "execution_count": 24,
     "metadata": {},
     "output_type": "execute_result"
    }
   ],
   "source": [
    "data_new['Holding Status'].value_counts()"
   ]
  },
  {
   "cell_type": "code",
   "execution_count": 25,
   "metadata": {},
   "outputs": [
    {
     "data": {
      "text/html": [
       "<div>\n",
       "<style scoped>\n",
       "    .dataframe tbody tr th:only-of-type {\n",
       "        vertical-align: middle;\n",
       "    }\n",
       "\n",
       "    .dataframe tbody tr th {\n",
       "        vertical-align: top;\n",
       "    }\n",
       "\n",
       "    .dataframe thead th {\n",
       "        text-align: right;\n",
       "    }\n",
       "</style>\n",
       "<table border=\"1\" class=\"dataframe\">\n",
       "  <thead>\n",
       "    <tr style=\"text-align: right;\">\n",
       "      <th></th>\n",
       "      <th>Home Business</th>\n",
       "      <th>Fortune 1000 Ranking</th>\n",
       "      <th>Year Established</th>\n",
       "      <th>Square Footage</th>\n",
       "      <th>Infogroup ID</th>\n",
       "      <th>Parent Infogroup ID</th>\n",
       "    </tr>\n",
       "  </thead>\n",
       "  <tbody>\n",
       "    <tr>\n",
       "      <th>0</th>\n",
       "      <td>No</td>\n",
       "      <td>0</td>\n",
       "      <td>0</td>\n",
       "      <td>100,000+</td>\n",
       "      <td>362806978</td>\n",
       "      <td>854085644</td>\n",
       "    </tr>\n",
       "    <tr>\n",
       "      <th>1</th>\n",
       "      <td>No</td>\n",
       "      <td>0</td>\n",
       "      <td>1929</td>\n",
       "      <td>100,000+</td>\n",
       "      <td>450418785</td>\n",
       "      <td>0</td>\n",
       "    </tr>\n",
       "  </tbody>\n",
       "</table>\n",
       "</div>"
      ],
      "text/plain": [
       "  Home Business  Fortune 1000 Ranking  Year Established Square Footage  \\\n",
       "0            No                     0                 0       100,000+   \n",
       "1            No                     0              1929       100,000+   \n",
       "\n",
       "   Infogroup ID  Parent Infogroup ID  \n",
       "0     362806978            854085644  \n",
       "1     450418785                    0  "
      ]
     },
     "execution_count": 25,
     "metadata": {},
     "output_type": "execute_result"
    }
   ],
   "source": [
    "data_new[['Home Business', 'Fortune 1000 Ranking', 'Year Established',\n",
    "       'Square Footage', 'Infogroup ID', 'Parent Infogroup ID']].head(2)"
   ]
  },
  {
   "cell_type": "code",
   "execution_count": 26,
   "metadata": {},
   "outputs": [
    {
     "data": {
      "text/plain": [
       "No     160218\n",
       "Yes      2679\n",
       "Name: Home Business, dtype: int64"
      ]
     },
     "execution_count": 26,
     "metadata": {},
     "output_type": "execute_result"
    }
   ],
   "source": [
    "data_new['Home Business'].value_counts()"
   ]
  },
  {
   "cell_type": "code",
   "execution_count": 27,
   "metadata": {},
   "outputs": [],
   "source": [
    "data_new=data_new.drop(['Infogroup ID', 'Parent Infogroup ID'],axis=1)"
   ]
  },
  {
   "cell_type": "code",
   "execution_count": 28,
   "metadata": {},
   "outputs": [
    {
     "data": {
      "text/plain": [
       "0      162848\n",
       "415         1\n",
       "577         1\n",
       "960         1\n",
       "63          1\n",
       "62          1\n",
       "61          1\n",
       "310         1\n",
       "820         1\n",
       "559         1\n",
       "173         1\n",
       "44          1\n",
       "542         1\n",
       "378         1\n",
       "30          1\n",
       "923         1\n",
       "404         1\n",
       "19          1\n",
       "18          1\n",
       "772         1\n",
       "258         1\n",
       "769         1\n",
       "640         1\n",
       "512         1\n",
       "195         1\n",
       "254         1\n",
       "71          1\n",
       "583         1\n",
       "248         1\n",
       "247         1\n",
       "630         1\n",
       "501         1\n",
       "242         1\n",
       "114         1\n",
       "369         1\n",
       "106         1\n",
       "231         1\n",
       "228         1\n",
       "221         1\n",
       "860         1\n",
       "217         1\n",
       "343         1\n",
       "470         1\n",
       "341         1\n",
       "84          1\n",
       "973         1\n",
       "972         1\n",
       "714         1\n",
       "202         1\n",
       "581         1\n",
       "Name: Fortune 1000 Ranking, dtype: int64"
      ]
     },
     "execution_count": 28,
     "metadata": {},
     "output_type": "execute_result"
    }
   ],
   "source": [
    "data_new['Fortune 1000 Ranking'].value_counts()"
   ]
  },
  {
   "cell_type": "code",
   "execution_count": 29,
   "metadata": {},
   "outputs": [],
   "source": [
    "data_new['Fortune 1000 Ranking']=data_new['Fortune 1000 Ranking'].map(lambda x: 0 if x==0 else 1)"
   ]
  },
  {
   "cell_type": "code",
   "execution_count": 30,
   "metadata": {},
   "outputs": [
    {
     "data": {
      "text/plain": [
       "0    162848\n",
       "1        49\n",
       "Name: Fortune 1000 Ranking, dtype: int64"
      ]
     },
     "execution_count": 30,
     "metadata": {},
     "output_type": "execute_result"
    }
   ],
   "source": [
    "data_new['Fortune 1000 Ranking'].value_counts()"
   ]
  },
  {
   "cell_type": "markdown",
   "metadata": {},
   "source": [
    "#### Keeping value 0 for companies that did not feature in  Fortune 1000 Ranking and 1 for companies that featured"
   ]
  },
  {
   "cell_type": "code",
   "execution_count": 31,
   "metadata": {},
   "outputs": [
    {
     "data": {
      "text/plain": [
       "Index(['Company Name', 'AMR_Fuzzy', 'Executive First Name',\n",
       "       'Executive Last Name', 'Executive Title', 'Role', 'Department',\n",
       "       'Functional Area', 'Executive Gender', 'Location City',\n",
       "       'Location State', 'County Description', 'Metro Area', 'Latitude',\n",
       "       'Longitude', 'Location Employee Size Actual',\n",
       "       'Location Sales Volume Actual', 'Corporate Sales Volume Actual',\n",
       "       'Primary SIC Code', 'Primary SIC Code Description',\n",
       "       'Primary NAICS Description', 'Holding Status', 'Home Business',\n",
       "       'Fortune 1000 Ranking', 'Year Established', 'Square Footage',\n",
       "       'First Name 0', 'Last Name 0', 'Executive Title 0',\n",
       "       'Executive Gender 0', 'Accounting Expenses', 'Advertising Expense',\n",
       "       'Computer Expenses', 'Contract Labor Expenses', 'Insurance Expenses',\n",
       "       'Legal Expenses', 'Management/Administration Expenses',\n",
       "       'Office Supplies Expenses', 'Package/Container Expenses',\n",
       "       'Payroll and Benefits Expenses', 'Purchase Print Expenses',\n",
       "       'Rent Expenses', 'Telcom Expenses', 'Transportation Expenses',\n",
       "       'Utilities Expense', 'Tags', 'Affiliated Records',\n",
       "       'Affiliated Locations', 'NAICS', 'amr', 'revenue_bucket', 'CLASS',\n",
       "       'cust_id'],\n",
       "      dtype='object')"
      ]
     },
     "execution_count": 31,
     "metadata": {},
     "output_type": "execute_result"
    }
   ],
   "source": [
    "data_new.columns"
   ]
  },
  {
   "cell_type": "code",
   "execution_count": 32,
   "metadata": {},
   "outputs": [
    {
     "data": {
      "text/html": [
       "<div>\n",
       "<style scoped>\n",
       "    .dataframe tbody tr th:only-of-type {\n",
       "        vertical-align: middle;\n",
       "    }\n",
       "\n",
       "    .dataframe tbody tr th {\n",
       "        vertical-align: top;\n",
       "    }\n",
       "\n",
       "    .dataframe thead th {\n",
       "        text-align: right;\n",
       "    }\n",
       "</style>\n",
       "<table border=\"1\" class=\"dataframe\">\n",
       "  <thead>\n",
       "    <tr style=\"text-align: right;\">\n",
       "      <th></th>\n",
       "      <th>Company Name</th>\n",
       "      <th>AMR_Fuzzy</th>\n",
       "      <th>Executive First Name</th>\n",
       "      <th>Executive Last Name</th>\n",
       "      <th>Executive Title</th>\n",
       "      <th>Role</th>\n",
       "      <th>Department</th>\n",
       "      <th>Functional Area</th>\n",
       "      <th>Executive Gender</th>\n",
       "    </tr>\n",
       "  </thead>\n",
       "  <tbody>\n",
       "    <tr>\n",
       "      <th>0</th>\n",
       "      <td>Bridgewater State Hospital</td>\n",
       "      <td>C</td>\n",
       "      <td>Kenneth W</td>\n",
       "      <td>Nelson</td>\n",
       "      <td>Administrator</td>\n",
       "      <td>Manager</td>\n",
       "      <td>General/Operations</td>\n",
       "      <td>General/Operations - Operations/Administrator</td>\n",
       "      <td>Male</td>\n",
       "    </tr>\n",
       "    <tr>\n",
       "      <th>1</th>\n",
       "      <td>Woodbridge Fire Dept</td>\n",
       "      <td>C</td>\n",
       "      <td>Sean C</td>\n",
       "      <td>Rowland</td>\n",
       "      <td>President</td>\n",
       "      <td>Chief Executive Officer/President/Executive Di...</td>\n",
       "      <td>General/Operations</td>\n",
       "      <td>General/Operations - Operations Administration</td>\n",
       "      <td>Male</td>\n",
       "    </tr>\n",
       "    <tr>\n",
       "      <th>2</th>\n",
       "      <td>Otto Herrmann Inc</td>\n",
       "      <td>C</td>\n",
       "      <td>Richard</td>\n",
       "      <td>Stier</td>\n",
       "      <td>President</td>\n",
       "      <td>Chief Executive Officer/President/Executive Di...</td>\n",
       "      <td>General/Operations</td>\n",
       "      <td>General/Operations - Operations Administration</td>\n",
       "      <td>Male</td>\n",
       "    </tr>\n",
       "    <tr>\n",
       "      <th>3</th>\n",
       "      <td>Achievement First Rhode Island</td>\n",
       "      <td>C</td>\n",
       "      <td>Libby</td>\n",
       "      <td>Miller</td>\n",
       "      <td>Principal</td>\n",
       "      <td>Manager</td>\n",
       "      <td>None</td>\n",
       "      <td>None - General Operations</td>\n",
       "      <td>Female</td>\n",
       "    </tr>\n",
       "    <tr>\n",
       "      <th>4</th>\n",
       "      <td>Beer King Inc</td>\n",
       "      <td>C</td>\n",
       "      <td>Johnny</td>\n",
       "      <td>Ling</td>\n",
       "      <td>President</td>\n",
       "      <td>Chief Executive Officer/President/Executive Di...</td>\n",
       "      <td>General/Operations</td>\n",
       "      <td>General/Operations - Operations Administration</td>\n",
       "      <td>Male</td>\n",
       "    </tr>\n",
       "  </tbody>\n",
       "</table>\n",
       "</div>"
      ],
      "text/plain": [
       "                     Company Name AMR_Fuzzy Executive First Name  \\\n",
       "0      Bridgewater State Hospital         C            Kenneth W   \n",
       "1            Woodbridge Fire Dept         C               Sean C   \n",
       "2               Otto Herrmann Inc         C              Richard   \n",
       "3  Achievement First Rhode Island         C                Libby   \n",
       "4                   Beer King Inc         C               Johnny   \n",
       "\n",
       "  Executive Last Name Executive Title  \\\n",
       "0              Nelson   Administrator   \n",
       "1             Rowland       President   \n",
       "2               Stier       President   \n",
       "3              Miller       Principal   \n",
       "4                Ling       President   \n",
       "\n",
       "                                                Role          Department  \\\n",
       "0                                            Manager  General/Operations   \n",
       "1  Chief Executive Officer/President/Executive Di...  General/Operations   \n",
       "2  Chief Executive Officer/President/Executive Di...  General/Operations   \n",
       "3                                            Manager                None   \n",
       "4  Chief Executive Officer/President/Executive Di...  General/Operations   \n",
       "\n",
       "                                  Functional Area Executive Gender  \n",
       "0   General/Operations - Operations/Administrator             Male  \n",
       "1  General/Operations - Operations Administration             Male  \n",
       "2  General/Operations - Operations Administration             Male  \n",
       "3                       None - General Operations           Female  \n",
       "4  General/Operations - Operations Administration             Male  "
      ]
     },
     "execution_count": 32,
     "metadata": {},
     "output_type": "execute_result"
    }
   ],
   "source": [
    "data_new[['Company Name', 'AMR_Fuzzy', 'Executive First Name',\n",
    "       'Executive Last Name', 'Executive Title', 'Role', 'Department',\n",
    "       'Functional Area', 'Executive Gender']].head()"
   ]
  },
  {
   "cell_type": "code",
   "execution_count": 33,
   "metadata": {},
   "outputs": [
    {
     "data": {
      "text/plain": [
       "C    154656\n",
       "A      4881\n",
       "B      3360\n",
       "Name: AMR_Fuzzy, dtype: int64"
      ]
     },
     "execution_count": 33,
     "metadata": {},
     "output_type": "execute_result"
    }
   ],
   "source": [
    "data_new['AMR_Fuzzy'].value_counts()"
   ]
  },
  {
   "cell_type": "code",
   "execution_count": 34,
   "metadata": {},
   "outputs": [],
   "source": [
    "data_new=data_new.drop(['Company Name', 'Executive First Name',\n",
    "       'Executive Last Name', 'Executive Title', 'Role', 'Department',\n",
    "       'Functional Area', 'Executive Gender','First Name 0', 'Last Name 0', 'Executive Title 0',\n",
    "       'Executive Gender 0'],axis=1)"
   ]
  },
  {
   "cell_type": "markdown",
   "metadata": {},
   "source": [
    "#### Dropping above columns as they don't give any additional information regarding the target variable"
   ]
  },
  {
   "cell_type": "code",
   "execution_count": 35,
   "metadata": {},
   "outputs": [
    {
     "data": {
      "text/html": [
       "<div>\n",
       "<style scoped>\n",
       "    .dataframe tbody tr th:only-of-type {\n",
       "        vertical-align: middle;\n",
       "    }\n",
       "\n",
       "    .dataframe tbody tr th {\n",
       "        vertical-align: top;\n",
       "    }\n",
       "\n",
       "    .dataframe thead th {\n",
       "        text-align: right;\n",
       "    }\n",
       "</style>\n",
       "<table border=\"1\" class=\"dataframe\">\n",
       "  <thead>\n",
       "    <tr style=\"text-align: right;\">\n",
       "      <th></th>\n",
       "      <th>Tags</th>\n",
       "      <th>Affiliated Records</th>\n",
       "      <th>Affiliated Locations</th>\n",
       "      <th>NAICS</th>\n",
       "      <th>amr</th>\n",
       "      <th>revenue_bucket</th>\n",
       "      <th>CLASS</th>\n",
       "      <th>cust_id</th>\n",
       "    </tr>\n",
       "  </thead>\n",
       "  <tbody>\n",
       "    <tr>\n",
       "      <th>0</th>\n",
       "      <td>Customer / Analytics</td>\n",
       "      <td>0</td>\n",
       "      <td>0</td>\n",
       "      <td>62211002</td>\n",
       "      <td>683.0</td>\n",
       "      <td>A</td>\n",
       "      <td>&gt;$500</td>\n",
       "      <td>6124981.0</td>\n",
       "    </tr>\n",
       "    <tr>\n",
       "      <th>1</th>\n",
       "      <td>Customer / Analytics</td>\n",
       "      <td>0</td>\n",
       "      <td>0</td>\n",
       "      <td>92216003</td>\n",
       "      <td>583.0</td>\n",
       "      <td>A</td>\n",
       "      <td>&gt;$500</td>\n",
       "      <td>1443278.0</td>\n",
       "    </tr>\n",
       "    <tr>\n",
       "      <th>2</th>\n",
       "      <td>Customer / Analytics</td>\n",
       "      <td>0</td>\n",
       "      <td>0</td>\n",
       "      <td>44413005</td>\n",
       "      <td>935.0</td>\n",
       "      <td>A</td>\n",
       "      <td>&gt;$500</td>\n",
       "      <td>2893821.0</td>\n",
       "    </tr>\n",
       "    <tr>\n",
       "      <th>3</th>\n",
       "      <td>Customer / Analytics</td>\n",
       "      <td>0</td>\n",
       "      <td>0</td>\n",
       "      <td>99999005</td>\n",
       "      <td>546.0</td>\n",
       "      <td>A</td>\n",
       "      <td>&gt;$500</td>\n",
       "      <td>7774182.0</td>\n",
       "    </tr>\n",
       "    <tr>\n",
       "      <th>4</th>\n",
       "      <td>Customer / Analytics</td>\n",
       "      <td>0</td>\n",
       "      <td>0</td>\n",
       "      <td>44531001</td>\n",
       "      <td>1121.0</td>\n",
       "      <td>A</td>\n",
       "      <td>&gt;$500</td>\n",
       "      <td>5527152.0</td>\n",
       "    </tr>\n",
       "    <tr>\n",
       "      <th>...</th>\n",
       "      <td>...</td>\n",
       "      <td>...</td>\n",
       "      <td>...</td>\n",
       "      <td>...</td>\n",
       "      <td>...</td>\n",
       "      <td>...</td>\n",
       "      <td>...</td>\n",
       "      <td>...</td>\n",
       "    </tr>\n",
       "    <tr>\n",
       "      <th>162892</th>\n",
       "      <td>Customer / Analytics</td>\n",
       "      <td>0</td>\n",
       "      <td>0</td>\n",
       "      <td>45311001</td>\n",
       "      <td>10.0</td>\n",
       "      <td>G</td>\n",
       "      <td>$(0-20)</td>\n",
       "      <td>3590472.0</td>\n",
       "    </tr>\n",
       "    <tr>\n",
       "      <th>162893</th>\n",
       "      <td>Customer / Analytics</td>\n",
       "      <td>0</td>\n",
       "      <td>0</td>\n",
       "      <td>54132004</td>\n",
       "      <td>19.0</td>\n",
       "      <td>G</td>\n",
       "      <td>$(0-20)</td>\n",
       "      <td>5048857.0</td>\n",
       "    </tr>\n",
       "    <tr>\n",
       "      <th>162894</th>\n",
       "      <td>Customer / Analytics</td>\n",
       "      <td>0</td>\n",
       "      <td>0</td>\n",
       "      <td>62199921</td>\n",
       "      <td>17.0</td>\n",
       "      <td>G</td>\n",
       "      <td>$(0-20)</td>\n",
       "      <td>6157670.0</td>\n",
       "    </tr>\n",
       "    <tr>\n",
       "      <th>162895</th>\n",
       "      <td>Customer / Analytics</td>\n",
       "      <td>0</td>\n",
       "      <td>0</td>\n",
       "      <td>62121003</td>\n",
       "      <td>8.0</td>\n",
       "      <td>G</td>\n",
       "      <td>$(0-20)</td>\n",
       "      <td>1100882.0</td>\n",
       "    </tr>\n",
       "    <tr>\n",
       "      <th>162896</th>\n",
       "      <td>Customer / Analytics</td>\n",
       "      <td>0</td>\n",
       "      <td>0</td>\n",
       "      <td>51912006</td>\n",
       "      <td>13.0</td>\n",
       "      <td>G</td>\n",
       "      <td>$(0-20)</td>\n",
       "      <td>7876528.0</td>\n",
       "    </tr>\n",
       "  </tbody>\n",
       "</table>\n",
       "<p>162897 rows × 8 columns</p>\n",
       "</div>"
      ],
      "text/plain": [
       "                        Tags  Affiliated Records  Affiliated Locations  \\\n",
       "0       Customer / Analytics                   0                     0   \n",
       "1       Customer / Analytics                   0                     0   \n",
       "2       Customer / Analytics                   0                     0   \n",
       "3       Customer / Analytics                   0                     0   \n",
       "4       Customer / Analytics                   0                     0   \n",
       "...                      ...                 ...                   ...   \n",
       "162892  Customer / Analytics                   0                     0   \n",
       "162893  Customer / Analytics                   0                     0   \n",
       "162894  Customer / Analytics                   0                     0   \n",
       "162895  Customer / Analytics                   0                     0   \n",
       "162896  Customer / Analytics                   0                     0   \n",
       "\n",
       "           NAICS     amr revenue_bucket    CLASS    cust_id  \n",
       "0       62211002   683.0              A    >$500  6124981.0  \n",
       "1       92216003   583.0              A    >$500  1443278.0  \n",
       "2       44413005   935.0              A    >$500  2893821.0  \n",
       "3       99999005   546.0              A    >$500  7774182.0  \n",
       "4       44531001  1121.0              A    >$500  5527152.0  \n",
       "...          ...     ...            ...      ...        ...  \n",
       "162892  45311001    10.0              G  $(0-20)  3590472.0  \n",
       "162893  54132004    19.0              G  $(0-20)  5048857.0  \n",
       "162894  62199921    17.0              G  $(0-20)  6157670.0  \n",
       "162895  62121003     8.0              G  $(0-20)  1100882.0  \n",
       "162896  51912006    13.0              G  $(0-20)  7876528.0  \n",
       "\n",
       "[162897 rows x 8 columns]"
      ]
     },
     "execution_count": 35,
     "metadata": {},
     "output_type": "execute_result"
    }
   ],
   "source": [
    "data_new[['Tags',\n",
    "       'Affiliated Records', 'Affiliated Locations', 'NAICS', 'amr',\n",
    "       'revenue_bucket', 'CLASS', 'cust_id']]"
   ]
  },
  {
   "cell_type": "code",
   "execution_count": 36,
   "metadata": {},
   "outputs": [
    {
     "data": {
      "text/plain": [
       "Customer / Analytics    162897\n",
       "Name: Tags, dtype: int64"
      ]
     },
     "execution_count": 36,
     "metadata": {},
     "output_type": "execute_result"
    }
   ],
   "source": [
    "data_new['Tags'].value_counts()"
   ]
  },
  {
   "cell_type": "code",
   "execution_count": 37,
   "metadata": {},
   "outputs": [
    {
     "data": {
      "text/plain": [
       "0       160783\n",
       "1          373\n",
       "2          325\n",
       "3          205\n",
       "4          143\n",
       "         ...  \n",
       "7218         1\n",
       "50           1\n",
       "306          1\n",
       "85           1\n",
       "184          1\n",
       "Name: Affiliated Records, Length: 205, dtype: int64"
      ]
     },
     "execution_count": 37,
     "metadata": {},
     "output_type": "execute_result"
    }
   ],
   "source": [
    "data_new['Affiliated Records'].value_counts()"
   ]
  },
  {
   "cell_type": "code",
   "execution_count": 38,
   "metadata": {},
   "outputs": [],
   "source": [
    "data_new=data_new.drop(['CLASS', 'cust_id','Tags'],axis=1)"
   ]
  },
  {
   "cell_type": "code",
   "execution_count": 39,
   "metadata": {},
   "outputs": [
    {
     "data": {
      "text/plain": [
       "Index(['AMR_Fuzzy', 'Location City', 'Location State', 'County Description',\n",
       "       'Metro Area', 'Latitude', 'Longitude', 'Location Employee Size Actual',\n",
       "       'Location Sales Volume Actual', 'Corporate Sales Volume Actual',\n",
       "       'Primary SIC Code', 'Primary SIC Code Description',\n",
       "       'Primary NAICS Description', 'Holding Status', 'Home Business',\n",
       "       'Fortune 1000 Ranking', 'Year Established', 'Square Footage',\n",
       "       'Accounting Expenses', 'Advertising Expense', 'Computer Expenses',\n",
       "       'Contract Labor Expenses', 'Insurance Expenses', 'Legal Expenses',\n",
       "       'Management/Administration Expenses', 'Office Supplies Expenses',\n",
       "       'Package/Container Expenses', 'Payroll and Benefits Expenses',\n",
       "       'Purchase Print Expenses', 'Rent Expenses', 'Telcom Expenses',\n",
       "       'Transportation Expenses', 'Utilities Expense', 'Affiliated Records',\n",
       "       'Affiliated Locations', 'NAICS', 'amr', 'revenue_bucket'],\n",
       "      dtype='object')"
      ]
     },
     "execution_count": 39,
     "metadata": {},
     "output_type": "execute_result"
    }
   ],
   "source": [
    "data_new.columns"
   ]
  },
  {
   "cell_type": "code",
   "execution_count": 40,
   "metadata": {},
   "outputs": [
    {
     "data": {
      "text/plain": [
       "AMR_Fuzzy                                 0\n",
       "Location City                             0\n",
       "Location State                            0\n",
       "County Description                        0\n",
       "Metro Area                              315\n",
       "Latitude                                  0\n",
       "Longitude                                 0\n",
       "Location Employee Size Actual          4380\n",
       "Location Sales Volume Actual              0\n",
       "Corporate Sales Volume Actual             0\n",
       "Primary SIC Code                          0\n",
       "Primary SIC Code Description              0\n",
       "Primary NAICS Description                 0\n",
       "Holding Status                            0\n",
       "Home Business                             0\n",
       "Fortune 1000 Ranking                      0\n",
       "Year Established                          0\n",
       "Square Footage                         8518\n",
       "Accounting Expenses                   38570\n",
       "Advertising Expense                   32084\n",
       "Computer Expenses                     32084\n",
       "Contract Labor Expenses               32084\n",
       "Insurance Expenses                    50300\n",
       "Legal Expenses                        38570\n",
       "Management/Administration Expenses    32084\n",
       "Office Supplies Expenses              43891\n",
       "Package/Container Expenses            58774\n",
       "Payroll and Benefits Expenses         31807\n",
       "Purchase Print Expenses               49948\n",
       "Rent Expenses                         32084\n",
       "Telcom Expenses                       32084\n",
       "Transportation Expenses               50332\n",
       "Utilities Expense                     32084\n",
       "Affiliated Records                        0\n",
       "Affiliated Locations                      0\n",
       "NAICS                                     0\n",
       "amr                                       0\n",
       "revenue_bucket                            0\n",
       "dtype: int64"
      ]
     },
     "execution_count": 40,
     "metadata": {},
     "output_type": "execute_result"
    }
   ],
   "source": [
    "data_new.isnull().sum()"
   ]
  },
  {
   "cell_type": "code",
   "execution_count": 41,
   "metadata": {},
   "outputs": [],
   "source": [
    "data_new=data_new.drop('Metro Area',axis=1)"
   ]
  },
  {
   "cell_type": "markdown",
   "metadata": {},
   "source": [
    "## Filling the null values and changing categorical features to numerical features"
   ]
  },
  {
   "cell_type": "code",
   "execution_count": 42,
   "metadata": {},
   "outputs": [],
   "source": [
    "ls=['Accounting Expenses', 'Advertising Expense', 'Computer Expenses',\n",
    "       'Contract Labor Expenses', 'Insurance Expenses', 'Legal Expenses',\n",
    "       'Management/Administration Expenses', 'Office Supplies Expenses',\n",
    "       'Package/Container Expenses', 'Payroll and Benefits Expenses',\n",
    "       'Purchase Print Expenses', 'Rent Expenses', 'Telcom Expenses',\n",
    "       'Transportation Expenses', 'Utilities Expense']\n",
    "for i in ls:\n",
    "    lis = [j for j in data_new[i].value_counts().index]\n",
    "    data_new[i].fillna(data_new[i].mode()[0],inplace=True)\n",
    "    data_new[i] = data_new[i].map(lambda x: lis.index(x)+1)"
   ]
  },
  {
   "cell_type": "code",
   "execution_count": 43,
   "metadata": {},
   "outputs": [
    {
     "data": {
      "text/html": [
       "<div>\n",
       "<style scoped>\n",
       "    .dataframe tbody tr th:only-of-type {\n",
       "        vertical-align: middle;\n",
       "    }\n",
       "\n",
       "    .dataframe tbody tr th {\n",
       "        vertical-align: top;\n",
       "    }\n",
       "\n",
       "    .dataframe thead th {\n",
       "        text-align: right;\n",
       "    }\n",
       "</style>\n",
       "<table border=\"1\" class=\"dataframe\">\n",
       "  <thead>\n",
       "    <tr style=\"text-align: right;\">\n",
       "      <th></th>\n",
       "      <th>Accounting Expenses</th>\n",
       "      <th>Advertising Expense</th>\n",
       "      <th>Computer Expenses</th>\n",
       "      <th>Contract Labor Expenses</th>\n",
       "      <th>Insurance Expenses</th>\n",
       "      <th>Legal Expenses</th>\n",
       "      <th>Management/Administration Expenses</th>\n",
       "      <th>Office Supplies Expenses</th>\n",
       "      <th>Package/Container Expenses</th>\n",
       "      <th>Payroll and Benefits Expenses</th>\n",
       "      <th>Purchase Print Expenses</th>\n",
       "      <th>Rent Expenses</th>\n",
       "      <th>Telcom Expenses</th>\n",
       "      <th>Transportation Expenses</th>\n",
       "      <th>Utilities Expense</th>\n",
       "    </tr>\n",
       "  </thead>\n",
       "  <tbody>\n",
       "    <tr>\n",
       "      <th>0</th>\n",
       "      <td>7</td>\n",
       "      <td>6</td>\n",
       "      <td>7</td>\n",
       "      <td>6</td>\n",
       "      <td>6</td>\n",
       "      <td>7</td>\n",
       "      <td>6</td>\n",
       "      <td>7</td>\n",
       "      <td>2</td>\n",
       "      <td>7</td>\n",
       "      <td>5</td>\n",
       "      <td>6</td>\n",
       "      <td>7</td>\n",
       "      <td>7</td>\n",
       "      <td>5</td>\n",
       "    </tr>\n",
       "    <tr>\n",
       "      <th>1</th>\n",
       "      <td>1</td>\n",
       "      <td>1</td>\n",
       "      <td>1</td>\n",
       "      <td>1</td>\n",
       "      <td>1</td>\n",
       "      <td>1</td>\n",
       "      <td>1</td>\n",
       "      <td>1</td>\n",
       "      <td>1</td>\n",
       "      <td>1</td>\n",
       "      <td>1</td>\n",
       "      <td>1</td>\n",
       "      <td>1</td>\n",
       "      <td>1</td>\n",
       "      <td>1</td>\n",
       "    </tr>\n",
       "    <tr>\n",
       "      <th>2</th>\n",
       "      <td>3</td>\n",
       "      <td>2</td>\n",
       "      <td>5</td>\n",
       "      <td>3</td>\n",
       "      <td>1</td>\n",
       "      <td>1</td>\n",
       "      <td>2</td>\n",
       "      <td>1</td>\n",
       "      <td>1</td>\n",
       "      <td>2</td>\n",
       "      <td>1</td>\n",
       "      <td>1</td>\n",
       "      <td>2</td>\n",
       "      <td>2</td>\n",
       "      <td>2</td>\n",
       "    </tr>\n",
       "    <tr>\n",
       "      <th>3</th>\n",
       "      <td>1</td>\n",
       "      <td>1</td>\n",
       "      <td>1</td>\n",
       "      <td>1</td>\n",
       "      <td>1</td>\n",
       "      <td>1</td>\n",
       "      <td>1</td>\n",
       "      <td>1</td>\n",
       "      <td>1</td>\n",
       "      <td>1</td>\n",
       "      <td>1</td>\n",
       "      <td>1</td>\n",
       "      <td>1</td>\n",
       "      <td>1</td>\n",
       "      <td>1</td>\n",
       "    </tr>\n",
       "    <tr>\n",
       "      <th>4</th>\n",
       "      <td>4</td>\n",
       "      <td>2</td>\n",
       "      <td>2</td>\n",
       "      <td>3</td>\n",
       "      <td>3</td>\n",
       "      <td>1</td>\n",
       "      <td>4</td>\n",
       "      <td>1</td>\n",
       "      <td>2</td>\n",
       "      <td>2</td>\n",
       "      <td>3</td>\n",
       "      <td>1</td>\n",
       "      <td>2</td>\n",
       "      <td>2</td>\n",
       "      <td>2</td>\n",
       "    </tr>\n",
       "  </tbody>\n",
       "</table>\n",
       "</div>"
      ],
      "text/plain": [
       "   Accounting Expenses  Advertising Expense  Computer Expenses  \\\n",
       "0                    7                    6                  7   \n",
       "1                    1                    1                  1   \n",
       "2                    3                    2                  5   \n",
       "3                    1                    1                  1   \n",
       "4                    4                    2                  2   \n",
       "\n",
       "   Contract Labor Expenses  Insurance Expenses  Legal Expenses  \\\n",
       "0                        6                   6               7   \n",
       "1                        1                   1               1   \n",
       "2                        3                   1               1   \n",
       "3                        1                   1               1   \n",
       "4                        3                   3               1   \n",
       "\n",
       "   Management/Administration Expenses  Office Supplies Expenses  \\\n",
       "0                                   6                         7   \n",
       "1                                   1                         1   \n",
       "2                                   2                         1   \n",
       "3                                   1                         1   \n",
       "4                                   4                         1   \n",
       "\n",
       "   Package/Container Expenses  Payroll and Benefits Expenses  \\\n",
       "0                           2                              7   \n",
       "1                           1                              1   \n",
       "2                           1                              2   \n",
       "3                           1                              1   \n",
       "4                           2                              2   \n",
       "\n",
       "   Purchase Print Expenses  Rent Expenses  Telcom Expenses  \\\n",
       "0                        5              6                7   \n",
       "1                        1              1                1   \n",
       "2                        1              1                2   \n",
       "3                        1              1                1   \n",
       "4                        3              1                2   \n",
       "\n",
       "   Transportation Expenses  Utilities Expense  \n",
       "0                        7                  5  \n",
       "1                        1                  1  \n",
       "2                        2                  2  \n",
       "3                        1                  1  \n",
       "4                        2                  2  "
      ]
     },
     "execution_count": 43,
     "metadata": {},
     "output_type": "execute_result"
    }
   ],
   "source": [
    "data_new[['Accounting Expenses', 'Advertising Expense', 'Computer Expenses',\n",
    "       'Contract Labor Expenses', 'Insurance Expenses', 'Legal Expenses',\n",
    "       'Management/Administration Expenses', 'Office Supplies Expenses',\n",
    "       'Package/Container Expenses', 'Payroll and Benefits Expenses',\n",
    "       'Purchase Print Expenses', 'Rent Expenses', 'Telcom Expenses',\n",
    "       'Transportation Expenses', 'Utilities Expense']].head()"
   ]
  },
  {
   "cell_type": "code",
   "execution_count": 44,
   "metadata": {},
   "outputs": [
    {
     "data": {
      "text/plain": [
       "AMR_Fuzzy                                0\n",
       "Location City                            0\n",
       "Location State                           0\n",
       "County Description                       0\n",
       "Latitude                                 0\n",
       "Longitude                                0\n",
       "Location Employee Size Actual         4380\n",
       "Location Sales Volume Actual             0\n",
       "Corporate Sales Volume Actual            0\n",
       "Primary SIC Code                         0\n",
       "Primary SIC Code Description             0\n",
       "Primary NAICS Description                0\n",
       "Holding Status                           0\n",
       "Home Business                            0\n",
       "Fortune 1000 Ranking                     0\n",
       "Year Established                         0\n",
       "Square Footage                        8518\n",
       "Accounting Expenses                      0\n",
       "Advertising Expense                      0\n",
       "Computer Expenses                        0\n",
       "Contract Labor Expenses                  0\n",
       "Insurance Expenses                       0\n",
       "Legal Expenses                           0\n",
       "Management/Administration Expenses       0\n",
       "Office Supplies Expenses                 0\n",
       "Package/Container Expenses               0\n",
       "Payroll and Benefits Expenses            0\n",
       "Purchase Print Expenses                  0\n",
       "Rent Expenses                            0\n",
       "Telcom Expenses                          0\n",
       "Transportation Expenses                  0\n",
       "Utilities Expense                        0\n",
       "Affiliated Records                       0\n",
       "Affiliated Locations                     0\n",
       "NAICS                                    0\n",
       "amr                                      0\n",
       "revenue_bucket                           0\n",
       "dtype: int64"
      ]
     },
     "execution_count": 44,
     "metadata": {},
     "output_type": "execute_result"
    }
   ],
   "source": [
    "data_new.isnull().sum()"
   ]
  },
  {
   "cell_type": "code",
   "execution_count": 45,
   "metadata": {},
   "outputs": [],
   "source": [
    "data_new['Square Footage'].fillna(data_new['Square Footage'].mode()[0],inplace=True)"
   ]
  },
  {
   "cell_type": "code",
   "execution_count": 46,
   "metadata": {},
   "outputs": [],
   "source": [
    "lis = [j for j in data_new['Square Footage'].value_counts().index]\n",
    "data_new['Square Footage'] = data_new['Square Footage'].map(lambda x: lis.index(x)+1)"
   ]
  },
  {
   "cell_type": "code",
   "execution_count": 47,
   "metadata": {},
   "outputs": [
    {
     "data": {
      "text/plain": [
       "revenue_bucket\n",
       "A    88.242356\n",
       "B    90.975357\n",
       "C    57.890470\n",
       "D    50.984190\n",
       "E    38.118519\n",
       "F    23.064909\n",
       "G    14.574726\n",
       "Name: Location Employee Size Actual, dtype: float64"
      ]
     },
     "execution_count": 47,
     "metadata": {},
     "output_type": "execute_result"
    }
   ],
   "source": [
    "data_new.groupby('revenue_bucket')['Location Employee Size Actual'].mean()"
   ]
  },
  {
   "cell_type": "code",
   "execution_count": 48,
   "metadata": {},
   "outputs": [
    {
     "data": {
      "text/plain": [
       "20.186017903442533"
      ]
     },
     "execution_count": 48,
     "metadata": {},
     "output_type": "execute_result"
    }
   ],
   "source": [
    "data_new['Location Employee Size Actual'].mean()"
   ]
  },
  {
   "cell_type": "code",
   "execution_count": 49,
   "metadata": {},
   "outputs": [],
   "source": [
    "data_new.rename(columns={'Location Employee Size Actual':'Location_Employee_Size_Actual'},inplace=True)"
   ]
  },
  {
   "cell_type": "code",
   "execution_count": 50,
   "metadata": {},
   "outputs": [
    {
     "data": {
      "text/plain": [
       "Index(['AMR_Fuzzy', 'Location City', 'Location State', 'County Description',\n",
       "       'Latitude', 'Longitude', 'Location_Employee_Size_Actual',\n",
       "       'Location Sales Volume Actual', 'Corporate Sales Volume Actual',\n",
       "       'Primary SIC Code', 'Primary SIC Code Description',\n",
       "       'Primary NAICS Description', 'Holding Status', 'Home Business',\n",
       "       'Fortune 1000 Ranking', 'Year Established', 'Square Footage',\n",
       "       'Accounting Expenses', 'Advertising Expense', 'Computer Expenses',\n",
       "       'Contract Labor Expenses', 'Insurance Expenses', 'Legal Expenses',\n",
       "       'Management/Administration Expenses', 'Office Supplies Expenses',\n",
       "       'Package/Container Expenses', 'Payroll and Benefits Expenses',\n",
       "       'Purchase Print Expenses', 'Rent Expenses', 'Telcom Expenses',\n",
       "       'Transportation Expenses', 'Utilities Expense', 'Affiliated Records',\n",
       "       'Affiliated Locations', 'NAICS', 'amr', 'revenue_bucket'],\n",
       "      dtype='object')"
      ]
     },
     "execution_count": 50,
     "metadata": {},
     "output_type": "execute_result"
    }
   ],
   "source": [
    "data_new.columns"
   ]
  },
  {
   "cell_type": "code",
   "execution_count": 51,
   "metadata": {},
   "outputs": [
    {
     "data": {
      "text/plain": [
       "4380"
      ]
     },
     "execution_count": 51,
     "metadata": {},
     "output_type": "execute_result"
    }
   ],
   "source": [
    "data_new['Location_Employee_Size_Actual'].isnull().sum()"
   ]
  },
  {
   "cell_type": "code",
   "execution_count": 52,
   "metadata": {},
   "outputs": [],
   "source": [
    "def missing_value(cols):\n",
    "    revenue_bucket=cols[0]\n",
    "    Location_Employee_Size_Actual=cols[1]\n",
    "    if pd.isnull(Location_Employee_Size_Actual):\n",
    "        if revenue_bucket == \"A\":\n",
    "            return 88.242\n",
    "        elif revenue_bucket == \"B\":\n",
    "            return 90.975\n",
    "        elif revenue_bucket == \"C\":\n",
    "            return 57.890\n",
    "        elif revenue_bucket == \"D\":\n",
    "            return 50.984\n",
    "        elif revenue_bucket == \"E\":\n",
    "            return 38.119\n",
    "        elif revenue_bucket == \"F\":\n",
    "            return 23.065\n",
    "        else:\n",
    "            return 14.575\n",
    "    else:\n",
    "        pass\n",
    "    return Location_Employee_Size_Actual\n"
   ]
  },
  {
   "cell_type": "code",
   "execution_count": 54,
   "metadata": {},
   "outputs": [
    {
     "data": {
      "text/plain": [
       "4380"
      ]
     },
     "execution_count": 54,
     "metadata": {},
     "output_type": "execute_result"
    }
   ],
   "source": [
    "data_new['Location_Employee_Size_Actual'].isnull().sum()"
   ]
  },
  {
   "cell_type": "code",
   "execution_count": 55,
   "metadata": {},
   "outputs": [],
   "source": [
    "data_new[\"Location_Employee_Size_Actual\"] = data_new[['revenue_bucket','Location_Employee_Size_Actual']].apply(missing_value, axis = 1)"
   ]
  },
  {
   "cell_type": "code",
   "execution_count": 56,
   "metadata": {},
   "outputs": [
    {
     "data": {
      "text/plain": [
       "AMR_Fuzzy                              object\n",
       "Location City                          object\n",
       "Location State                         object\n",
       "County Description                     object\n",
       "Latitude                              float64\n",
       "Longitude                             float64\n",
       "Location_Employee_Size_Actual         float64\n",
       "Location Sales Volume Actual            int64\n",
       "Corporate Sales Volume Actual         float64\n",
       "Primary SIC Code                       object\n",
       "Primary SIC Code Description           object\n",
       "Primary NAICS Description              object\n",
       "Holding Status                          int64\n",
       "Home Business                          object\n",
       "Fortune 1000 Ranking                    int64\n",
       "Year Established                        int64\n",
       "Square Footage                          int64\n",
       "Accounting Expenses                     int64\n",
       "Advertising Expense                     int64\n",
       "Computer Expenses                       int64\n",
       "Contract Labor Expenses                 int64\n",
       "Insurance Expenses                      int64\n",
       "Legal Expenses                          int64\n",
       "Management/Administration Expenses      int64\n",
       "Office Supplies Expenses                int64\n",
       "Package/Container Expenses              int64\n",
       "Payroll and Benefits Expenses           int64\n",
       "Purchase Print Expenses                 int64\n",
       "Rent Expenses                           int64\n",
       "Telcom Expenses                         int64\n",
       "Transportation Expenses                 int64\n",
       "Utilities Expense                       int64\n",
       "Affiliated Records                      int64\n",
       "Affiliated Locations                    int64\n",
       "NAICS                                   int64\n",
       "amr                                   float64\n",
       "revenue_bucket                         object\n",
       "dtype: object"
      ]
     },
     "execution_count": 56,
     "metadata": {},
     "output_type": "execute_result"
    }
   ],
   "source": [
    "data_new.dtypes"
   ]
  },
  {
   "cell_type": "code",
   "execution_count": 57,
   "metadata": {},
   "outputs": [
    {
     "data": {
      "text/plain": [
       "Index(['AMR_Fuzzy', 'Location City', 'Location State', 'County Description',\n",
       "       'Latitude', 'Longitude', 'Location_Employee_Size_Actual',\n",
       "       'Location Sales Volume Actual', 'Corporate Sales Volume Actual',\n",
       "       'Primary SIC Code', 'Primary SIC Code Description',\n",
       "       'Primary NAICS Description', 'Holding Status', 'Home Business',\n",
       "       'Fortune 1000 Ranking', 'Year Established', 'Square Footage',\n",
       "       'Accounting Expenses', 'Advertising Expense', 'Computer Expenses',\n",
       "       'Contract Labor Expenses', 'Insurance Expenses', 'Legal Expenses',\n",
       "       'Management/Administration Expenses', 'Office Supplies Expenses',\n",
       "       'Package/Container Expenses', 'Payroll and Benefits Expenses',\n",
       "       'Purchase Print Expenses', 'Rent Expenses', 'Telcom Expenses',\n",
       "       'Transportation Expenses', 'Utilities Expense', 'Affiliated Records',\n",
       "       'Affiliated Locations', 'NAICS', 'amr', 'revenue_bucket'],\n",
       "      dtype='object')"
      ]
     },
     "execution_count": 57,
     "metadata": {},
     "output_type": "execute_result"
    }
   ],
   "source": [
    "data_new.columns"
   ]
  },
  {
   "cell_type": "markdown",
   "metadata": {},
   "source": [
    "### Transforming categorical columns to numerical columns using label encoder"
   ]
  },
  {
   "cell_type": "code",
   "execution_count": 58,
   "metadata": {},
   "outputs": [],
   "source": [
    "class MultiColumnLabelEncoder:\n",
    "    def __init__(self,columns = None):\n",
    "        self.columns = columns # array of column names to encode\n",
    "\n",
    "    def fit(self,X,y=None):\n",
    "        return self # not relevant here\n",
    "\n",
    "    def transform(self,X):\n",
    "        '''\n",
    "        Transforms columns of X specified in self.columns using\n",
    "        LabelEncoder(). If no columns specified, transforms all\n",
    "        columns in X.\n",
    "        '''\n",
    "        output = X.copy()\n",
    "        if self.columns is not None:\n",
    "            for col in self.columns:\n",
    "                output[col] = LabelEncoder().fit_transform(output[col])\n",
    "        else:\n",
    "            for colname,col in output.iteritems():\n",
    "                output[colname] = LabelEncoder().fit_transform(col)\n",
    "        return output\n",
    "\n",
    "    def fit_transform(self,X,y=None):\n",
    "        return self.fit(X,y).transform(X)"
   ]
  },
  {
   "cell_type": "code",
   "execution_count": 59,
   "metadata": {},
   "outputs": [],
   "source": [
    "from sklearn.preprocessing import LabelEncoder\n",
    "data_new=MultiColumnLabelEncoder(columns = ['Location City', 'Location State', 'County Description',\\\n",
    "                                  'Primary SIC Code', 'Primary SIC Code Description',\n",
    "       'Primary NAICS Description',]).fit_transform(data_new)"
   ]
  },
  {
   "cell_type": "code",
   "execution_count": 60,
   "metadata": {},
   "outputs": [
    {
     "data": {
      "text/html": [
       "<div>\n",
       "<style scoped>\n",
       "    .dataframe tbody tr th:only-of-type {\n",
       "        vertical-align: middle;\n",
       "    }\n",
       "\n",
       "    .dataframe tbody tr th {\n",
       "        vertical-align: top;\n",
       "    }\n",
       "\n",
       "    .dataframe thead th {\n",
       "        text-align: right;\n",
       "    }\n",
       "</style>\n",
       "<table border=\"1\" class=\"dataframe\">\n",
       "  <thead>\n",
       "    <tr style=\"text-align: right;\">\n",
       "      <th></th>\n",
       "      <th>AMR_Fuzzy</th>\n",
       "      <th>Location City</th>\n",
       "      <th>Location State</th>\n",
       "      <th>County Description</th>\n",
       "      <th>Latitude</th>\n",
       "      <th>Longitude</th>\n",
       "      <th>Location_Employee_Size_Actual</th>\n",
       "      <th>Location Sales Volume Actual</th>\n",
       "      <th>Corporate Sales Volume Actual</th>\n",
       "      <th>Primary SIC Code</th>\n",
       "      <th>...</th>\n",
       "      <th>Purchase Print Expenses</th>\n",
       "      <th>Rent Expenses</th>\n",
       "      <th>Telcom Expenses</th>\n",
       "      <th>Transportation Expenses</th>\n",
       "      <th>Utilities Expense</th>\n",
       "      <th>Affiliated Records</th>\n",
       "      <th>Affiliated Locations</th>\n",
       "      <th>NAICS</th>\n",
       "      <th>amr</th>\n",
       "      <th>revenue_bucket</th>\n",
       "    </tr>\n",
       "  </thead>\n",
       "  <tbody>\n",
       "    <tr>\n",
       "      <th>0</th>\n",
       "      <td>C</td>\n",
       "      <td>185</td>\n",
       "      <td>18</td>\n",
       "      <td>194</td>\n",
       "      <td>41.944249</td>\n",
       "      <td>-70.952391</td>\n",
       "      <td>500.0</td>\n",
       "      <td>74549000</td>\n",
       "      <td>0.0</td>\n",
       "      <td>4240</td>\n",
       "      <td>...</td>\n",
       "      <td>5</td>\n",
       "      <td>6</td>\n",
       "      <td>7</td>\n",
       "      <td>7</td>\n",
       "      <td>5</td>\n",
       "      <td>0</td>\n",
       "      <td>0</td>\n",
       "      <td>62211002</td>\n",
       "      <td>683.0</td>\n",
       "      <td>A</td>\n",
       "    </tr>\n",
       "    <tr>\n",
       "      <th>1</th>\n",
       "      <td>C</td>\n",
       "      <td>1845</td>\n",
       "      <td>6</td>\n",
       "      <td>172</td>\n",
       "      <td>41.340796</td>\n",
       "      <td>-73.015005</td>\n",
       "      <td>50.0</td>\n",
       "      <td>0</td>\n",
       "      <td>0.0</td>\n",
       "      <td>4904</td>\n",
       "      <td>...</td>\n",
       "      <td>1</td>\n",
       "      <td>1</td>\n",
       "      <td>1</td>\n",
       "      <td>1</td>\n",
       "      <td>1</td>\n",
       "      <td>0</td>\n",
       "      <td>0</td>\n",
       "      <td>92216003</td>\n",
       "      <td>583.0</td>\n",
       "      <td>A</td>\n",
       "    </tr>\n",
       "    <tr>\n",
       "      <th>2</th>\n",
       "      <td>C</td>\n",
       "      <td>578</td>\n",
       "      <td>31</td>\n",
       "      <td>201</td>\n",
       "      <td>40.701625</td>\n",
       "      <td>-73.885304</td>\n",
       "      <td>2.0</td>\n",
       "      <td>439000</td>\n",
       "      <td>0.0</td>\n",
       "      <td>2472</td>\n",
       "      <td>...</td>\n",
       "      <td>1</td>\n",
       "      <td>1</td>\n",
       "      <td>2</td>\n",
       "      <td>2</td>\n",
       "      <td>2</td>\n",
       "      <td>0</td>\n",
       "      <td>0</td>\n",
       "      <td>44413005</td>\n",
       "      <td>935.0</td>\n",
       "      <td>A</td>\n",
       "    </tr>\n",
       "    <tr>\n",
       "      <th>3</th>\n",
       "      <td>C</td>\n",
       "      <td>1310</td>\n",
       "      <td>36</td>\n",
       "      <td>199</td>\n",
       "      <td>41.817417</td>\n",
       "      <td>-71.456242</td>\n",
       "      <td>4.0</td>\n",
       "      <td>0</td>\n",
       "      <td>0.0</td>\n",
       "      <td>4968</td>\n",
       "      <td>...</td>\n",
       "      <td>1</td>\n",
       "      <td>1</td>\n",
       "      <td>1</td>\n",
       "      <td>1</td>\n",
       "      <td>1</td>\n",
       "      <td>0</td>\n",
       "      <td>0</td>\n",
       "      <td>99999005</td>\n",
       "      <td>546.0</td>\n",
       "      <td>A</td>\n",
       "    </tr>\n",
       "    <tr>\n",
       "      <th>4</th>\n",
       "      <td>C</td>\n",
       "      <td>200</td>\n",
       "      <td>31</td>\n",
       "      <td>129</td>\n",
       "      <td>40.619880</td>\n",
       "      <td>-73.927260</td>\n",
       "      <td>3.0</td>\n",
       "      <td>1035000</td>\n",
       "      <td>0.0</td>\n",
       "      <td>2877</td>\n",
       "      <td>...</td>\n",
       "      <td>3</td>\n",
       "      <td>1</td>\n",
       "      <td>2</td>\n",
       "      <td>2</td>\n",
       "      <td>2</td>\n",
       "      <td>0</td>\n",
       "      <td>0</td>\n",
       "      <td>44531001</td>\n",
       "      <td>1121.0</td>\n",
       "      <td>A</td>\n",
       "    </tr>\n",
       "    <tr>\n",
       "      <th>...</th>\n",
       "      <td>...</td>\n",
       "      <td>...</td>\n",
       "      <td>...</td>\n",
       "      <td>...</td>\n",
       "      <td>...</td>\n",
       "      <td>...</td>\n",
       "      <td>...</td>\n",
       "      <td>...</td>\n",
       "      <td>...</td>\n",
       "      <td>...</td>\n",
       "      <td>...</td>\n",
       "      <td>...</td>\n",
       "      <td>...</td>\n",
       "      <td>...</td>\n",
       "      <td>...</td>\n",
       "      <td>...</td>\n",
       "      <td>...</td>\n",
       "      <td>...</td>\n",
       "      <td>...</td>\n",
       "      <td>...</td>\n",
       "      <td>...</td>\n",
       "    </tr>\n",
       "    <tr>\n",
       "      <th>162892</th>\n",
       "      <td>C</td>\n",
       "      <td>917</td>\n",
       "      <td>31</td>\n",
       "      <td>168</td>\n",
       "      <td>40.676757</td>\n",
       "      <td>-73.460447</td>\n",
       "      <td>10.0</td>\n",
       "      <td>1036000</td>\n",
       "      <td>0.0</td>\n",
       "      <td>3036</td>\n",
       "      <td>...</td>\n",
       "      <td>4</td>\n",
       "      <td>4</td>\n",
       "      <td>3</td>\n",
       "      <td>4</td>\n",
       "      <td>3</td>\n",
       "      <td>0</td>\n",
       "      <td>0</td>\n",
       "      <td>45311001</td>\n",
       "      <td>10.0</td>\n",
       "      <td>G</td>\n",
       "    </tr>\n",
       "    <tr>\n",
       "      <th>162893</th>\n",
       "      <td>C</td>\n",
       "      <td>1390</td>\n",
       "      <td>31</td>\n",
       "      <td>168</td>\n",
       "      <td>40.799930</td>\n",
       "      <td>-73.658951</td>\n",
       "      <td>4.0</td>\n",
       "      <td>505000</td>\n",
       "      <td>0.0</td>\n",
       "      <td>51</td>\n",
       "      <td>...</td>\n",
       "      <td>2</td>\n",
       "      <td>2</td>\n",
       "      <td>3</td>\n",
       "      <td>2</td>\n",
       "      <td>2</td>\n",
       "      <td>0</td>\n",
       "      <td>0</td>\n",
       "      <td>54132004</td>\n",
       "      <td>19.0</td>\n",
       "      <td>G</td>\n",
       "    </tr>\n",
       "    <tr>\n",
       "      <th>162894</th>\n",
       "      <td>C</td>\n",
       "      <td>1368</td>\n",
       "      <td>31</td>\n",
       "      <td>201</td>\n",
       "      <td>40.582394</td>\n",
       "      <td>-73.837646</td>\n",
       "      <td>12.0</td>\n",
       "      <td>1888000</td>\n",
       "      <td>0.0</td>\n",
       "      <td>4285</td>\n",
       "      <td>...</td>\n",
       "      <td>4</td>\n",
       "      <td>3</td>\n",
       "      <td>1</td>\n",
       "      <td>5</td>\n",
       "      <td>3</td>\n",
       "      <td>0</td>\n",
       "      <td>0</td>\n",
       "      <td>62199921</td>\n",
       "      <td>17.0</td>\n",
       "      <td>G</td>\n",
       "    </tr>\n",
       "    <tr>\n",
       "      <th>162895</th>\n",
       "      <td>C</td>\n",
       "      <td>95</td>\n",
       "      <td>31</td>\n",
       "      <td>168</td>\n",
       "      <td>40.907127</td>\n",
       "      <td>-73.552648</td>\n",
       "      <td>15.0</td>\n",
       "      <td>2080000</td>\n",
       "      <td>0.0</td>\n",
       "      <td>4163</td>\n",
       "      <td>...</td>\n",
       "      <td>4</td>\n",
       "      <td>5</td>\n",
       "      <td>1</td>\n",
       "      <td>4</td>\n",
       "      <td>3</td>\n",
       "      <td>0</td>\n",
       "      <td>0</td>\n",
       "      <td>62121003</td>\n",
       "      <td>8.0</td>\n",
       "      <td>G</td>\n",
       "    </tr>\n",
       "    <tr>\n",
       "      <th>162896</th>\n",
       "      <td>C</td>\n",
       "      <td>95</td>\n",
       "      <td>31</td>\n",
       "      <td>168</td>\n",
       "      <td>40.907590</td>\n",
       "      <td>-73.566979</td>\n",
       "      <td>11.0</td>\n",
       "      <td>0</td>\n",
       "      <td>0.0</td>\n",
       "      <td>4357</td>\n",
       "      <td>...</td>\n",
       "      <td>5</td>\n",
       "      <td>4</td>\n",
       "      <td>4</td>\n",
       "      <td>1</td>\n",
       "      <td>3</td>\n",
       "      <td>0</td>\n",
       "      <td>0</td>\n",
       "      <td>51912006</td>\n",
       "      <td>13.0</td>\n",
       "      <td>G</td>\n",
       "    </tr>\n",
       "  </tbody>\n",
       "</table>\n",
       "<p>162897 rows × 37 columns</p>\n",
       "</div>"
      ],
      "text/plain": [
       "       AMR_Fuzzy  Location City  Location State  County Description  \\\n",
       "0              C            185              18                 194   \n",
       "1              C           1845               6                 172   \n",
       "2              C            578              31                 201   \n",
       "3              C           1310              36                 199   \n",
       "4              C            200              31                 129   \n",
       "...          ...            ...             ...                 ...   \n",
       "162892         C            917              31                 168   \n",
       "162893         C           1390              31                 168   \n",
       "162894         C           1368              31                 201   \n",
       "162895         C             95              31                 168   \n",
       "162896         C             95              31                 168   \n",
       "\n",
       "         Latitude  Longitude  Location_Employee_Size_Actual  \\\n",
       "0       41.944249 -70.952391                          500.0   \n",
       "1       41.340796 -73.015005                           50.0   \n",
       "2       40.701625 -73.885304                            2.0   \n",
       "3       41.817417 -71.456242                            4.0   \n",
       "4       40.619880 -73.927260                            3.0   \n",
       "...           ...        ...                            ...   \n",
       "162892  40.676757 -73.460447                           10.0   \n",
       "162893  40.799930 -73.658951                            4.0   \n",
       "162894  40.582394 -73.837646                           12.0   \n",
       "162895  40.907127 -73.552648                           15.0   \n",
       "162896  40.907590 -73.566979                           11.0   \n",
       "\n",
       "        Location Sales Volume Actual  Corporate Sales Volume Actual  \\\n",
       "0                           74549000                            0.0   \n",
       "1                                  0                            0.0   \n",
       "2                             439000                            0.0   \n",
       "3                                  0                            0.0   \n",
       "4                            1035000                            0.0   \n",
       "...                              ...                            ...   \n",
       "162892                       1036000                            0.0   \n",
       "162893                        505000                            0.0   \n",
       "162894                       1888000                            0.0   \n",
       "162895                       2080000                            0.0   \n",
       "162896                             0                            0.0   \n",
       "\n",
       "        Primary SIC Code  ...  Purchase Print Expenses  Rent Expenses  \\\n",
       "0                   4240  ...                        5              6   \n",
       "1                   4904  ...                        1              1   \n",
       "2                   2472  ...                        1              1   \n",
       "3                   4968  ...                        1              1   \n",
       "4                   2877  ...                        3              1   \n",
       "...                  ...  ...                      ...            ...   \n",
       "162892              3036  ...                        4              4   \n",
       "162893                51  ...                        2              2   \n",
       "162894              4285  ...                        4              3   \n",
       "162895              4163  ...                        4              5   \n",
       "162896              4357  ...                        5              4   \n",
       "\n",
       "        Telcom Expenses Transportation Expenses  Utilities Expense  \\\n",
       "0                     7                       7                  5   \n",
       "1                     1                       1                  1   \n",
       "2                     2                       2                  2   \n",
       "3                     1                       1                  1   \n",
       "4                     2                       2                  2   \n",
       "...                 ...                     ...                ...   \n",
       "162892                3                       4                  3   \n",
       "162893                3                       2                  2   \n",
       "162894                1                       5                  3   \n",
       "162895                1                       4                  3   \n",
       "162896                4                       1                  3   \n",
       "\n",
       "        Affiliated Records  Affiliated Locations     NAICS     amr  \\\n",
       "0                        0                     0  62211002   683.0   \n",
       "1                        0                     0  92216003   583.0   \n",
       "2                        0                     0  44413005   935.0   \n",
       "3                        0                     0  99999005   546.0   \n",
       "4                        0                     0  44531001  1121.0   \n",
       "...                    ...                   ...       ...     ...   \n",
       "162892                   0                     0  45311001    10.0   \n",
       "162893                   0                     0  54132004    19.0   \n",
       "162894                   0                     0  62199921    17.0   \n",
       "162895                   0                     0  62121003     8.0   \n",
       "162896                   0                     0  51912006    13.0   \n",
       "\n",
       "        revenue_bucket  \n",
       "0                    A  \n",
       "1                    A  \n",
       "2                    A  \n",
       "3                    A  \n",
       "4                    A  \n",
       "...                ...  \n",
       "162892               G  \n",
       "162893               G  \n",
       "162894               G  \n",
       "162895               G  \n",
       "162896               G  \n",
       "\n",
       "[162897 rows x 37 columns]"
      ]
     },
     "execution_count": 60,
     "metadata": {},
     "output_type": "execute_result"
    }
   ],
   "source": [
    "data_new\n"
   ]
  },
  {
   "cell_type": "markdown",
   "metadata": {},
   "source": [
    "## Building the model"
   ]
  },
  {
   "cell_type": "code",
   "execution_count": 74,
   "metadata": {},
   "outputs": [],
   "source": [
    "x=data_new.drop('revenue_bucket',axis=1)\n",
    "y=data_new['revenue_bucket']"
   ]
  },
  {
   "cell_type": "code",
   "execution_count": 75,
   "metadata": {},
   "outputs": [],
   "source": [
    "x=pd.get_dummies(x,drop_first=True)"
   ]
  },
  {
   "cell_type": "code",
   "execution_count": 76,
   "metadata": {},
   "outputs": [
    {
     "data": {
      "text/html": [
       "<div>\n",
       "<style scoped>\n",
       "    .dataframe tbody tr th:only-of-type {\n",
       "        vertical-align: middle;\n",
       "    }\n",
       "\n",
       "    .dataframe tbody tr th {\n",
       "        vertical-align: top;\n",
       "    }\n",
       "\n",
       "    .dataframe thead th {\n",
       "        text-align: right;\n",
       "    }\n",
       "</style>\n",
       "<table border=\"1\" class=\"dataframe\">\n",
       "  <thead>\n",
       "    <tr style=\"text-align: right;\">\n",
       "      <th></th>\n",
       "      <th>Location City</th>\n",
       "      <th>Location State</th>\n",
       "      <th>County Description</th>\n",
       "      <th>Latitude</th>\n",
       "      <th>Longitude</th>\n",
       "      <th>Location_Employee_Size_Actual</th>\n",
       "      <th>Location Sales Volume Actual</th>\n",
       "      <th>Corporate Sales Volume Actual</th>\n",
       "      <th>Primary SIC Code</th>\n",
       "      <th>Primary SIC Code Description</th>\n",
       "      <th>...</th>\n",
       "      <th>Telcom Expenses</th>\n",
       "      <th>Transportation Expenses</th>\n",
       "      <th>Utilities Expense</th>\n",
       "      <th>Affiliated Records</th>\n",
       "      <th>Affiliated Locations</th>\n",
       "      <th>NAICS</th>\n",
       "      <th>amr</th>\n",
       "      <th>AMR_Fuzzy_B</th>\n",
       "      <th>AMR_Fuzzy_C</th>\n",
       "      <th>Home Business_Yes</th>\n",
       "    </tr>\n",
       "  </thead>\n",
       "  <tbody>\n",
       "    <tr>\n",
       "      <th>0</th>\n",
       "      <td>185</td>\n",
       "      <td>18</td>\n",
       "      <td>194</td>\n",
       "      <td>41.944249</td>\n",
       "      <td>-70.952391</td>\n",
       "      <td>500.0</td>\n",
       "      <td>74549000</td>\n",
       "      <td>0.0</td>\n",
       "      <td>4240</td>\n",
       "      <td>2286</td>\n",
       "      <td>...</td>\n",
       "      <td>7</td>\n",
       "      <td>7</td>\n",
       "      <td>5</td>\n",
       "      <td>0</td>\n",
       "      <td>0</td>\n",
       "      <td>62211002</td>\n",
       "      <td>683.0</td>\n",
       "      <td>0</td>\n",
       "      <td>1</td>\n",
       "      <td>0</td>\n",
       "    </tr>\n",
       "    <tr>\n",
       "      <th>1</th>\n",
       "      <td>1845</td>\n",
       "      <td>6</td>\n",
       "      <td>172</td>\n",
       "      <td>41.340796</td>\n",
       "      <td>-73.015005</td>\n",
       "      <td>50.0</td>\n",
       "      <td>0</td>\n",
       "      <td>0.0</td>\n",
       "      <td>4904</td>\n",
       "      <td>1766</td>\n",
       "      <td>...</td>\n",
       "      <td>1</td>\n",
       "      <td>1</td>\n",
       "      <td>1</td>\n",
       "      <td>0</td>\n",
       "      <td>0</td>\n",
       "      <td>92216003</td>\n",
       "      <td>583.0</td>\n",
       "      <td>0</td>\n",
       "      <td>1</td>\n",
       "      <td>0</td>\n",
       "    </tr>\n",
       "    <tr>\n",
       "      <th>2</th>\n",
       "      <td>578</td>\n",
       "      <td>31</td>\n",
       "      <td>201</td>\n",
       "      <td>40.701625</td>\n",
       "      <td>-73.885304</td>\n",
       "      <td>2.0</td>\n",
       "      <td>439000</td>\n",
       "      <td>0.0</td>\n",
       "      <td>2472</td>\n",
       "      <td>2144</td>\n",
       "      <td>...</td>\n",
       "      <td>2</td>\n",
       "      <td>2</td>\n",
       "      <td>2</td>\n",
       "      <td>0</td>\n",
       "      <td>0</td>\n",
       "      <td>44413005</td>\n",
       "      <td>935.0</td>\n",
       "      <td>0</td>\n",
       "      <td>1</td>\n",
       "      <td>0</td>\n",
       "    </tr>\n",
       "    <tr>\n",
       "      <th>3</th>\n",
       "      <td>1310</td>\n",
       "      <td>36</td>\n",
       "      <td>199</td>\n",
       "      <td>41.817417</td>\n",
       "      <td>-71.456242</td>\n",
       "      <td>4.0</td>\n",
       "      <td>0</td>\n",
       "      <td>0.0</td>\n",
       "      <td>4968</td>\n",
       "      <td>1691</td>\n",
       "      <td>...</td>\n",
       "      <td>1</td>\n",
       "      <td>1</td>\n",
       "      <td>1</td>\n",
       "      <td>0</td>\n",
       "      <td>0</td>\n",
       "      <td>99999005</td>\n",
       "      <td>546.0</td>\n",
       "      <td>0</td>\n",
       "      <td>1</td>\n",
       "      <td>0</td>\n",
       "    </tr>\n",
       "    <tr>\n",
       "      <th>4</th>\n",
       "      <td>200</td>\n",
       "      <td>31</td>\n",
       "      <td>129</td>\n",
       "      <td>40.619880</td>\n",
       "      <td>-73.927260</td>\n",
       "      <td>3.0</td>\n",
       "      <td>1035000</td>\n",
       "      <td>0.0</td>\n",
       "      <td>2877</td>\n",
       "      <td>467</td>\n",
       "      <td>...</td>\n",
       "      <td>2</td>\n",
       "      <td>2</td>\n",
       "      <td>2</td>\n",
       "      <td>0</td>\n",
       "      <td>0</td>\n",
       "      <td>44531001</td>\n",
       "      <td>1121.0</td>\n",
       "      <td>0</td>\n",
       "      <td>1</td>\n",
       "      <td>0</td>\n",
       "    </tr>\n",
       "  </tbody>\n",
       "</table>\n",
       "<p>5 rows × 37 columns</p>\n",
       "</div>"
      ],
      "text/plain": [
       "   Location City  Location State  County Description   Latitude  Longitude  \\\n",
       "0            185              18                 194  41.944249 -70.952391   \n",
       "1           1845               6                 172  41.340796 -73.015005   \n",
       "2            578              31                 201  40.701625 -73.885304   \n",
       "3           1310              36                 199  41.817417 -71.456242   \n",
       "4            200              31                 129  40.619880 -73.927260   \n",
       "\n",
       "   Location_Employee_Size_Actual  Location Sales Volume Actual  \\\n",
       "0                          500.0                      74549000   \n",
       "1                           50.0                             0   \n",
       "2                            2.0                        439000   \n",
       "3                            4.0                             0   \n",
       "4                            3.0                       1035000   \n",
       "\n",
       "   Corporate Sales Volume Actual  Primary SIC Code  \\\n",
       "0                            0.0              4240   \n",
       "1                            0.0              4904   \n",
       "2                            0.0              2472   \n",
       "3                            0.0              4968   \n",
       "4                            0.0              2877   \n",
       "\n",
       "   Primary SIC Code Description  ...  Telcom Expenses  \\\n",
       "0                          2286  ...                7   \n",
       "1                          1766  ...                1   \n",
       "2                          2144  ...                2   \n",
       "3                          1691  ...                1   \n",
       "4                           467  ...                2   \n",
       "\n",
       "   Transportation Expenses  Utilities Expense  Affiliated Records  \\\n",
       "0                        7                  5                   0   \n",
       "1                        1                  1                   0   \n",
       "2                        2                  2                   0   \n",
       "3                        1                  1                   0   \n",
       "4                        2                  2                   0   \n",
       "\n",
       "   Affiliated Locations     NAICS     amr  AMR_Fuzzy_B  AMR_Fuzzy_C  \\\n",
       "0                     0  62211002   683.0            0            1   \n",
       "1                     0  92216003   583.0            0            1   \n",
       "2                     0  44413005   935.0            0            1   \n",
       "3                     0  99999005   546.0            0            1   \n",
       "4                     0  44531001  1121.0            0            1   \n",
       "\n",
       "   Home Business_Yes  \n",
       "0                  0  \n",
       "1                  0  \n",
       "2                  0  \n",
       "3                  0  \n",
       "4                  0  \n",
       "\n",
       "[5 rows x 37 columns]"
      ]
     },
     "execution_count": 76,
     "metadata": {},
     "output_type": "execute_result"
    }
   ],
   "source": [
    "x.head()"
   ]
  },
  {
   "cell_type": "code",
   "execution_count": 90,
   "metadata": {},
   "outputs": [],
   "source": [
    "x_train,x_test,y_train,y_test=train_test_split(x,y,test_size=0.2,random_state=0)"
   ]
  },
  {
   "cell_type": "code",
   "execution_count": 91,
   "metadata": {},
   "outputs": [
    {
     "data": {
      "text/plain": [
       "0.9932473910374463"
      ]
     },
     "execution_count": 91,
     "metadata": {},
     "output_type": "execute_result"
    }
   ],
   "source": [
    "rfc=RandomForestClassifier(n_estimators=100)\n",
    "rfc.fit(x_train,y_train)\n",
    "pred=rfc.predict(x_test)\n",
    "accuracy_score(pred,y_test)"
   ]
  },
  {
   "cell_type": "code",
   "execution_count": 92,
   "metadata": {},
   "outputs": [
    {
     "name": "stdout",
     "output_type": "stream",
     "text": [
      "             precision    recall  f1-score   support\n",
      "\n",
      "          A       0.72      0.91      0.80       135\n",
      "          B       0.51      0.83      0.63        92\n",
      "          C       0.79      0.78      0.78       339\n",
      "          D       0.93      0.87      0.90       440\n",
      "          E       1.00      0.97      0.98      1864\n",
      "          F       1.00      1.00      1.00      9924\n",
      "          G       1.00      1.00      1.00     19786\n",
      "\n",
      "avg / total       0.99      0.99      0.99     32580\n",
      "\n"
     ]
    }
   ],
   "source": [
    "from sklearn.metrics import classification_report\n",
    "print(classification_report(pred,y_test))"
   ]
  },
  {
   "cell_type": "code",
   "execution_count": 93,
   "metadata": {},
   "outputs": [
    {
     "name": "stdout",
     "output_type": "stream",
     "text": [
      "[[  123     9    21    11     7     0     0]\n",
      " [    7    76    49     9     7     0     0]\n",
      " [    4     6   264    36    25     0     0]\n",
      " [    1     1     4   384    22     0     0]\n",
      " [    0     0     1     0  1803     0     0]\n",
      " [    0     0     0     0     0  9924     0]\n",
      " [    0     0     0     0     0     0 19786]]\n"
     ]
    }
   ],
   "source": [
    "from sklearn.metrics import confusion_matrix\n",
    "print(confusion_matrix(y_test,pred))"
   ]
  },
  {
   "cell_type": "code",
   "execution_count": null,
   "metadata": {},
   "outputs": [],
   "source": []
  }
 ],
 "metadata": {
  "kernelspec": {
   "display_name": "Python 3",
   "language": "python",
   "name": "python3"
  },
  "language_info": {
   "codemirror_mode": {
    "name": "ipython",
    "version": 3
   },
   "file_extension": ".py",
   "mimetype": "text/x-python",
   "name": "python",
   "nbconvert_exporter": "python",
   "pygments_lexer": "ipython3",
   "version": "3.7.3"
  }
 },
 "nbformat": 4,
 "nbformat_minor": 2
}
